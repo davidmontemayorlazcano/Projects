{
 "cells": [
  {
   "cell_type": "code",
   "execution_count": 2,
   "id": "3639b3e5",
   "metadata": {},
   "outputs": [
    {
     "data": {
      "text/plain": [
       "{'El': 1,\n",
       " 'amor': 1,\n",
       " 'es': 1,\n",
       " 'una': 2,\n",
       " 'locura': 2,\n",
       " 'que': 1,\n",
       " 'ni': 1,\n",
       " 'el': 2,\n",
       " 'cura': 5,\n",
       " 'lo': 2,\n",
       " 'porque': 1,\n",
       " 'si': 1,\n",
       " 'sería': 1,\n",
       " 'del': 1}"
      ]
     },
     "execution_count": 2,
     "metadata": {},
     "output_type": "execute_result"
    }
   ],
   "source": [
    "diccionario = dict()\n",
    "oracion = \"El amor es una locura que ni el cura lo cura porque si el cura lo cura sería una locura del cura\"\n",
    "palabras = oracion.split()\n",
    "for palabra in palabras:\n",
    "    if palabra not in diccionario:\n",
    "        diccionario[palabra] = 1\n",
    "    else:\n",
    "        diccionario[palabra] = diccionario[palabra] + 1\n",
    "diccionario"
   ]
  },
  {
   "cell_type": "code",
   "execution_count": 4,
   "id": "e28ea442",
   "metadata": {},
   "outputs": [
    {
     "name": "stdout",
     "output_type": "stream",
     "text": [
      "La palabra ' El ' se repite  1  instancia(s)\n",
      "La palabra ' amor ' se repite  1  instancia(s)\n",
      "La palabra ' es ' se repite  1  instancia(s)\n",
      "La palabra ' una ' se repite  2  instancia(s)\n",
      "La palabra ' locura ' se repite  2  instancia(s)\n",
      "La palabra ' que ' se repite  1  instancia(s)\n",
      "La palabra ' ni ' se repite  1  instancia(s)\n",
      "La palabra ' el ' se repite  2  instancia(s)\n",
      "La palabra ' cura ' se repite  5  instancia(s)\n",
      "La palabra ' lo ' se repite  2  instancia(s)\n",
      "La palabra ' porque ' se repite  1  instancia(s)\n",
      "La palabra ' si ' se repite  1  instancia(s)\n",
      "La palabra ' sería ' se repite  1  instancia(s)\n",
      "La palabra ' del ' se repite  1  instancia(s)\n"
     ]
    }
   ],
   "source": [
    "for a in diccionario:    \n",
    "    print(\"La palabra '\",a,\"' se repite \",diccionario[a],\" instancia(s)\")"
   ]
  },
  {
   "cell_type": "code",
   "execution_count": null,
   "id": "76ab2164",
   "metadata": {},
   "outputs": [],
   "source": []
  }
 ],
 "metadata": {
  "kernelspec": {
   "display_name": "Python 3 (ipykernel)",
   "language": "python",
   "name": "python3"
  },
  "language_info": {
   "codemirror_mode": {
    "name": "ipython",
    "version": 3
   },
   "file_extension": ".py",
   "mimetype": "text/x-python",
   "name": "python",
   "nbconvert_exporter": "python",
   "pygments_lexer": "ipython3",
   "version": "3.9.13"
  }
 },
 "nbformat": 4,
 "nbformat_minor": 5
}
