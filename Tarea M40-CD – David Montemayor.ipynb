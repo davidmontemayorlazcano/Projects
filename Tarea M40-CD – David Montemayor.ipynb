{
 "cells": [
  {
   "cell_type": "code",
   "execution_count": 2,
   "id": "9b27eb86-fcb1-45c8-913a-193ba3fd2312",
   "metadata": {},
   "outputs": [],
   "source": [
    "import pandas as pd\n",
    "import os\n",
    "import sqlite3\n",
    "os.chdir('/Users/Lenovo/Desktop/EBAC')"
   ]
  },
  {
   "cell_type": "code",
   "execution_count": 12,
   "id": "353e4025-e469-46b6-9258-6ce276d62fbe",
   "metadata": {},
   "outputs": [
    {
     "data": {
      "text/html": [
       "<div>\n",
       "<style scoped>\n",
       "    .dataframe tbody tr th:only-of-type {\n",
       "        vertical-align: middle;\n",
       "    }\n",
       "\n",
       "    .dataframe tbody tr th {\n",
       "        vertical-align: top;\n",
       "    }\n",
       "\n",
       "    .dataframe thead th {\n",
       "        text-align: right;\n",
       "    }\n",
       "</style>\n",
       "<table border=\"1\" class=\"dataframe\">\n",
       "  <thead>\n",
       "    <tr style=\"text-align: right;\">\n",
       "      <th></th>\n",
       "      <th>CustomerID</th>\n",
       "      <th>CustomerName</th>\n",
       "      <th>ContactName</th>\n",
       "      <th>Address</th>\n",
       "      <th>City</th>\n",
       "      <th>PostalCode</th>\n",
       "      <th>Country</th>\n",
       "      <th>PurchaseUSD</th>\n",
       "    </tr>\n",
       "  </thead>\n",
       "  <tbody>\n",
       "    <tr>\n",
       "      <th>0</th>\n",
       "      <td>1</td>\n",
       "      <td>Alfreds Futterkiste</td>\n",
       "      <td>Maria Anders</td>\n",
       "      <td>Obere Str. 57</td>\n",
       "      <td>Berlin</td>\n",
       "      <td>12209</td>\n",
       "      <td>Germany</td>\n",
       "      <td>14861</td>\n",
       "    </tr>\n",
       "    <tr>\n",
       "      <th>1</th>\n",
       "      <td>2</td>\n",
       "      <td>Ana Trujillo Emparedados y helados</td>\n",
       "      <td>Ana Trujillo</td>\n",
       "      <td>Avda. de la Constituci?n 2222</td>\n",
       "      <td>M?xico D.F.</td>\n",
       "      <td>5021</td>\n",
       "      <td>Mexico</td>\n",
       "      <td>9900</td>\n",
       "    </tr>\n",
       "    <tr>\n",
       "      <th>2</th>\n",
       "      <td>3</td>\n",
       "      <td>Antonio Moreno Taquer?a</td>\n",
       "      <td>Antonio Moreno</td>\n",
       "      <td>Mataderos 2312</td>\n",
       "      <td>M?xico D.F.</td>\n",
       "      <td>5023</td>\n",
       "      <td>Mexico</td>\n",
       "      <td>7735</td>\n",
       "    </tr>\n",
       "    <tr>\n",
       "      <th>3</th>\n",
       "      <td>4</td>\n",
       "      <td>Around the Horn</td>\n",
       "      <td>Thomas Hardy</td>\n",
       "      <td>120 Hanover Sq.</td>\n",
       "      <td>London</td>\n",
       "      <td>WA1 1DP</td>\n",
       "      <td>UK</td>\n",
       "      <td>10295</td>\n",
       "    </tr>\n",
       "    <tr>\n",
       "      <th>4</th>\n",
       "      <td>5</td>\n",
       "      <td>Berglunds snabbk?p</td>\n",
       "      <td>Christina Berglund</td>\n",
       "      <td>Berguvsv?gen 8</td>\n",
       "      <td>Lule?</td>\n",
       "      <td>S-958 22</td>\n",
       "      <td>Sweden</td>\n",
       "      <td>6755</td>\n",
       "    </tr>\n",
       "  </tbody>\n",
       "</table>\n",
       "</div>"
      ],
      "text/plain": [
       "   CustomerID                        CustomerName         ContactName  \\\n",
       "0           1                 Alfreds Futterkiste        Maria Anders   \n",
       "1           2  Ana Trujillo Emparedados y helados        Ana Trujillo   \n",
       "2           3             Antonio Moreno Taquer?a      Antonio Moreno   \n",
       "3           4                     Around the Horn        Thomas Hardy   \n",
       "4           5                  Berglunds snabbk?p  Christina Berglund   \n",
       "\n",
       "                         Address         City PostalCode  Country  PurchaseUSD  \n",
       "0                  Obere Str. 57       Berlin      12209  Germany        14861  \n",
       "1  Avda. de la Constituci?n 2222  M?xico D.F.       5021   Mexico         9900  \n",
       "2                 Mataderos 2312  M?xico D.F.       5023   Mexico         7735  \n",
       "3                120 Hanover Sq.       London    WA1 1DP       UK        10295  \n",
       "4                 Berguvsv?gen 8        Lule?   S-958 22   Sweden         6755  "
      ]
     },
     "execution_count": 12,
     "metadata": {},
     "output_type": "execute_result"
    }
   ],
   "source": [
    "data = pd.read_csv('Cientifico-de-Datos-M40-Customers.csv')\n",
    "data.head()"
   ]
  },
  {
   "cell_type": "code",
   "execution_count": 22,
   "id": "29172c7e-0c37-4ad0-89de-50d40ff492ae",
   "metadata": {},
   "outputs": [],
   "source": [
    "conn = sqlite3.connect('Clientes.db')"
   ]
  },
  {
   "cell_type": "code",
   "execution_count": 16,
   "id": "9f2ce257-156a-4a8f-b87f-74bb49219e14",
   "metadata": {},
   "outputs": [
    {
     "data": {
      "text/plain": [
       "<sqlite3.Cursor at 0x1a8102862c0>"
      ]
     },
     "execution_count": 16,
     "metadata": {},
     "output_type": "execute_result"
    }
   ],
   "source": [
    "#Estructura de control para manipular registros\n",
    "conn.cursor()"
   ]
  },
  {
   "cell_type": "code",
   "execution_count": 20,
   "id": "1f9a867e-3fe0-4a18-b2b5-625463c2e494",
   "metadata": {},
   "outputs": [],
   "source": [
    "cur = conn.cursor()"
   ]
  },
  {
   "cell_type": "code",
   "execution_count": 18,
   "id": "486ac991-4c87-4f8d-90ff-d1668fc0307a",
   "metadata": {},
   "outputs": [
    {
     "data": {
      "text/plain": [
       "91"
      ]
     },
     "execution_count": 18,
     "metadata": {},
     "output_type": "execute_result"
    }
   ],
   "source": [
    "data.to_sql(\"Clientes\", conn, if_exists = \"replace\", index = False)"
   ]
  },
  {
   "cell_type": "code",
   "execution_count": 24,
   "id": "6e88a197-6d2a-464f-a373-896156386191",
   "metadata": {},
   "outputs": [
    {
     "data": {
      "text/plain": [
       "<sqlite3.Cursor at 0x1a81031a140>"
      ]
     },
     "execution_count": 24,
     "metadata": {},
     "output_type": "execute_result"
    }
   ],
   "source": [
    "#Ejecutar una consulta\n",
    "cur.execute(\"SELECT * FROM Clientes;\")"
   ]
  },
  {
   "cell_type": "code",
   "execution_count": 26,
   "id": "fed74830-1939-4ee9-bcb7-4481f08c08a4",
   "metadata": {},
   "outputs": [
    {
     "data": {
      "text/plain": [
       "[(1,\n",
       "  'Alfreds Futterkiste',\n",
       "  'Maria Anders',\n",
       "  'Obere Str. 57',\n",
       "  'Berlin',\n",
       "  '12209',\n",
       "  'Germany',\n",
       "  14861),\n",
       " (2,\n",
       "  'Ana Trujillo Emparedados y helados',\n",
       "  'Ana Trujillo',\n",
       "  'Avda. de la Constituci?n 2222',\n",
       "  'M?xico D.F.',\n",
       "  '5021',\n",
       "  'Mexico',\n",
       "  9900),\n",
       " (3,\n",
       "  'Antonio Moreno Taquer?a',\n",
       "  'Antonio Moreno',\n",
       "  'Mataderos 2312',\n",
       "  'M?xico D.F.',\n",
       "  '5023',\n",
       "  'Mexico',\n",
       "  7735),\n",
       " (4,\n",
       "  'Around the Horn',\n",
       "  'Thomas Hardy',\n",
       "  '120 Hanover Sq.',\n",
       "  'London',\n",
       "  'WA1 1DP',\n",
       "  'UK',\n",
       "  10295),\n",
       " (5,\n",
       "  'Berglunds snabbk?p',\n",
       "  'Christina Berglund',\n",
       "  'Berguvsv?gen 8',\n",
       "  'Lule?',\n",
       "  'S-958 22',\n",
       "  'Sweden',\n",
       "  6755)]"
      ]
     },
     "execution_count": 26,
     "metadata": {},
     "output_type": "execute_result"
    }
   ],
   "source": [
    "conn.execute(\"SELECT * FROM Clientes LIMIT 5;\").fetchall()"
   ]
  },
  {
   "cell_type": "code",
   "execution_count": 28,
   "id": "589df0ab-879c-44eb-8e25-9f2f5031cf1d",
   "metadata": {},
   "outputs": [],
   "source": [
    "with open(\"Operaciones.sql\", \"w\") as _file:\n",
    "    for line in conn.iterdump():\n",
    "        _file.write(f\"{line}\\n\")"
   ]
  },
  {
   "cell_type": "code",
   "execution_count": null,
   "id": "918cf742-faea-494e-828a-bac364eceb03",
   "metadata": {},
   "outputs": [],
   "source": []
  }
 ],
 "metadata": {
  "kernelspec": {
   "display_name": "Python 3 (ipykernel)",
   "language": "python",
   "name": "python3"
  },
  "language_info": {
   "codemirror_mode": {
    "name": "ipython",
    "version": 3
   },
   "file_extension": ".py",
   "mimetype": "text/x-python",
   "name": "python",
   "nbconvert_exporter": "python",
   "pygments_lexer": "ipython3",
   "version": "3.12.4"
  }
 },
 "nbformat": 4,
 "nbformat_minor": 5
}
