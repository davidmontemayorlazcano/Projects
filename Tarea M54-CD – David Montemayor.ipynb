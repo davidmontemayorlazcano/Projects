{
 "cells": [
  {
   "cell_type": "code",
   "execution_count": 2,
   "id": "374fb37e-f0b3-418e-9331-7a6f1114c4cd",
   "metadata": {},
   "outputs": [],
   "source": [
    "import yfinance as yf\n",
    "import pandas as pd\n",
    "import warnings\n",
    "import matplotlib.pyplot as plt\n",
    "warnings.filterwarnings('ignore')"
   ]
  },
  {
   "cell_type": "code",
   "execution_count": 4,
   "id": "5403608c-5398-4b08-97dd-bf776aaec502",
   "metadata": {},
   "outputs": [
    {
     "name": "stderr",
     "output_type": "stream",
     "text": [
      "[*********************100%***********************]  2 of 2 completed\n"
     ]
    },
    {
     "data": {
      "text/html": [
       "<div>\n",
       "<style scoped>\n",
       "    .dataframe tbody tr th:only-of-type {\n",
       "        vertical-align: middle;\n",
       "    }\n",
       "\n",
       "    .dataframe tbody tr th {\n",
       "        vertical-align: top;\n",
       "    }\n",
       "\n",
       "    .dataframe thead tr th {\n",
       "        text-align: left;\n",
       "    }\n",
       "\n",
       "    .dataframe thead tr:last-of-type th {\n",
       "        text-align: right;\n",
       "    }\n",
       "</style>\n",
       "<table border=\"1\" class=\"dataframe\">\n",
       "  <thead>\n",
       "    <tr>\n",
       "      <th>Price</th>\n",
       "      <th colspan=\"2\" halign=\"left\">Close</th>\n",
       "      <th colspan=\"2\" halign=\"left\">High</th>\n",
       "      <th colspan=\"2\" halign=\"left\">Low</th>\n",
       "      <th colspan=\"2\" halign=\"left\">Open</th>\n",
       "      <th colspan=\"2\" halign=\"left\">Volume</th>\n",
       "    </tr>\n",
       "    <tr>\n",
       "      <th>Ticker</th>\n",
       "      <th>IBM</th>\n",
       "      <th>WMT</th>\n",
       "      <th>IBM</th>\n",
       "      <th>WMT</th>\n",
       "      <th>IBM</th>\n",
       "      <th>WMT</th>\n",
       "      <th>IBM</th>\n",
       "      <th>WMT</th>\n",
       "      <th>IBM</th>\n",
       "      <th>WMT</th>\n",
       "    </tr>\n",
       "    <tr>\n",
       "      <th>Date</th>\n",
       "      <th></th>\n",
       "      <th></th>\n",
       "      <th></th>\n",
       "      <th></th>\n",
       "      <th></th>\n",
       "      <th></th>\n",
       "      <th></th>\n",
       "      <th></th>\n",
       "      <th></th>\n",
       "      <th></th>\n",
       "    </tr>\n",
       "  </thead>\n",
       "  <tbody>\n",
       "    <tr>\n",
       "      <th>2020-09-14</th>\n",
       "      <td>94.06</td>\n",
       "      <td>42.70</td>\n",
       "      <td>95.05</td>\n",
       "      <td>43.87</td>\n",
       "      <td>93.80</td>\n",
       "      <td>42.25</td>\n",
       "      <td>94.27</td>\n",
       "      <td>42.33</td>\n",
       "      <td>3809009</td>\n",
       "      <td>45733800</td>\n",
       "    </tr>\n",
       "    <tr>\n",
       "      <th>2020-09-15</th>\n",
       "      <td>94.33</td>\n",
       "      <td>42.71</td>\n",
       "      <td>95.07</td>\n",
       "      <td>43.24</td>\n",
       "      <td>94.17</td>\n",
       "      <td>42.50</td>\n",
       "      <td>94.62</td>\n",
       "      <td>42.98</td>\n",
       "      <td>3049299</td>\n",
       "      <td>30427800</td>\n",
       "    </tr>\n",
       "    <tr>\n",
       "      <th>2020-09-16</th>\n",
       "      <td>95.70</td>\n",
       "      <td>42.37</td>\n",
       "      <td>96.93</td>\n",
       "      <td>43.12</td>\n",
       "      <td>94.53</td>\n",
       "      <td>42.30</td>\n",
       "      <td>94.53</td>\n",
       "      <td>43.04</td>\n",
       "      <td>3962666</td>\n",
       "      <td>27860400</td>\n",
       "    </tr>\n",
       "    <tr>\n",
       "      <th>2020-09-17</th>\n",
       "      <td>96.24</td>\n",
       "      <td>42.50</td>\n",
       "      <td>96.72</td>\n",
       "      <td>42.78</td>\n",
       "      <td>93.96</td>\n",
       "      <td>41.98</td>\n",
       "      <td>94.47</td>\n",
       "      <td>42.11</td>\n",
       "      <td>3317180</td>\n",
       "      <td>37245000</td>\n",
       "    </tr>\n",
       "    <tr>\n",
       "      <th>2020-09-18</th>\n",
       "      <td>94.57</td>\n",
       "      <td>42.07</td>\n",
       "      <td>96.24</td>\n",
       "      <td>42.76</td>\n",
       "      <td>94.49</td>\n",
       "      <td>41.90</td>\n",
       "      <td>95.73</td>\n",
       "      <td>42.42</td>\n",
       "      <td>5639614</td>\n",
       "      <td>54709200</td>\n",
       "    </tr>\n",
       "    <tr>\n",
       "      <th>...</th>\n",
       "      <td>...</td>\n",
       "      <td>...</td>\n",
       "      <td>...</td>\n",
       "      <td>...</td>\n",
       "      <td>...</td>\n",
       "      <td>...</td>\n",
       "      <td>...</td>\n",
       "      <td>...</td>\n",
       "      <td>...</td>\n",
       "      <td>...</td>\n",
       "    </tr>\n",
       "    <tr>\n",
       "      <th>2025-09-08</th>\n",
       "      <td>256.09</td>\n",
       "      <td>102.28</td>\n",
       "      <td>257.15</td>\n",
       "      <td>102.36</td>\n",
       "      <td>247.02</td>\n",
       "      <td>100.42</td>\n",
       "      <td>248.63</td>\n",
       "      <td>100.85</td>\n",
       "      <td>6940300</td>\n",
       "      <td>13685700</td>\n",
       "    </tr>\n",
       "    <tr>\n",
       "      <th>2025-09-09</th>\n",
       "      <td>259.11</td>\n",
       "      <td>102.29</td>\n",
       "      <td>260.66</td>\n",
       "      <td>102.49</td>\n",
       "      <td>254.88</td>\n",
       "      <td>101.55</td>\n",
       "      <td>256.12</td>\n",
       "      <td>102.00</td>\n",
       "      <td>4931100</td>\n",
       "      <td>11819700</td>\n",
       "    </tr>\n",
       "    <tr>\n",
       "      <th>2025-09-10</th>\n",
       "      <td>256.88</td>\n",
       "      <td>100.41</td>\n",
       "      <td>260.08</td>\n",
       "      <td>102.45</td>\n",
       "      <td>254.56</td>\n",
       "      <td>100.39</td>\n",
       "      <td>259.65</td>\n",
       "      <td>101.95</td>\n",
       "      <td>5185400</td>\n",
       "      <td>17934900</td>\n",
       "    </tr>\n",
       "    <tr>\n",
       "      <th>2025-09-11</th>\n",
       "      <td>257.01</td>\n",
       "      <td>102.65</td>\n",
       "      <td>258.55</td>\n",
       "      <td>102.78</td>\n",
       "      <td>255.66</td>\n",
       "      <td>100.28</td>\n",
       "      <td>257.56</td>\n",
       "      <td>100.99</td>\n",
       "      <td>3576000</td>\n",
       "      <td>15900800</td>\n",
       "    </tr>\n",
       "    <tr>\n",
       "      <th>2025-09-12</th>\n",
       "      <td>253.44</td>\n",
       "      <td>103.49</td>\n",
       "      <td>257.25</td>\n",
       "      <td>103.98</td>\n",
       "      <td>252.43</td>\n",
       "      <td>102.36</td>\n",
       "      <td>256.95</td>\n",
       "      <td>102.54</td>\n",
       "      <td>3431100</td>\n",
       "      <td>11640100</td>\n",
       "    </tr>\n",
       "  </tbody>\n",
       "</table>\n",
       "<p>1256 rows × 10 columns</p>\n",
       "</div>"
      ],
      "text/plain": [
       "Price        Close            High             Low            Open          \\\n",
       "Ticker         IBM     WMT     IBM     WMT     IBM     WMT     IBM     WMT   \n",
       "Date                                                                         \n",
       "2020-09-14   94.06   42.70   95.05   43.87   93.80   42.25   94.27   42.33   \n",
       "2020-09-15   94.33   42.71   95.07   43.24   94.17   42.50   94.62   42.98   \n",
       "2020-09-16   95.70   42.37   96.93   43.12   94.53   42.30   94.53   43.04   \n",
       "2020-09-17   96.24   42.50   96.72   42.78   93.96   41.98   94.47   42.11   \n",
       "2020-09-18   94.57   42.07   96.24   42.76   94.49   41.90   95.73   42.42   \n",
       "...            ...     ...     ...     ...     ...     ...     ...     ...   \n",
       "2025-09-08  256.09  102.28  257.15  102.36  247.02  100.42  248.63  100.85   \n",
       "2025-09-09  259.11  102.29  260.66  102.49  254.88  101.55  256.12  102.00   \n",
       "2025-09-10  256.88  100.41  260.08  102.45  254.56  100.39  259.65  101.95   \n",
       "2025-09-11  257.01  102.65  258.55  102.78  255.66  100.28  257.56  100.99   \n",
       "2025-09-12  253.44  103.49  257.25  103.98  252.43  102.36  256.95  102.54   \n",
       "\n",
       "Price        Volume            \n",
       "Ticker          IBM       WMT  \n",
       "Date                           \n",
       "2020-09-14  3809009  45733800  \n",
       "2020-09-15  3049299  30427800  \n",
       "2020-09-16  3962666  27860400  \n",
       "2020-09-17  3317180  37245000  \n",
       "2020-09-18  5639614  54709200  \n",
       "...             ...       ...  \n",
       "2025-09-08  6940300  13685700  \n",
       "2025-09-09  4931100  11819700  \n",
       "2025-09-10  5185400  17934900  \n",
       "2025-09-11  3576000  15900800  \n",
       "2025-09-12  3431100  11640100  \n",
       "\n",
       "[1256 rows x 10 columns]"
      ]
     },
     "execution_count": 4,
     "metadata": {},
     "output_type": "execute_result"
    }
   ],
   "source": [
    "ibm_walmart = yf.download(tickers = 'wmt ibm', period = '5y', interval = '1d', rounding = True)\n",
    "ibm_walmart"
   ]
  },
  {
   "cell_type": "code",
   "execution_count": 6,
   "id": "41e3d662-8050-4903-8904-6aeb305af56b",
   "metadata": {},
   "outputs": [
    {
     "data": {
      "text/html": [
       "<div>\n",
       "<style scoped>\n",
       "    .dataframe tbody tr th:only-of-type {\n",
       "        vertical-align: middle;\n",
       "    }\n",
       "\n",
       "    .dataframe tbody tr th {\n",
       "        vertical-align: top;\n",
       "    }\n",
       "\n",
       "    .dataframe thead th {\n",
       "        text-align: right;\n",
       "    }\n",
       "</style>\n",
       "<table border=\"1\" class=\"dataframe\">\n",
       "  <thead>\n",
       "    <tr style=\"text-align: right;\">\n",
       "      <th>Ticker</th>\n",
       "      <th>IBM</th>\n",
       "      <th>WMT</th>\n",
       "    </tr>\n",
       "    <tr>\n",
       "      <th>Date</th>\n",
       "      <th></th>\n",
       "      <th></th>\n",
       "    </tr>\n",
       "  </thead>\n",
       "  <tbody>\n",
       "    <tr>\n",
       "      <th>2020-09-14</th>\n",
       "      <td>94.06</td>\n",
       "      <td>42.70</td>\n",
       "    </tr>\n",
       "    <tr>\n",
       "      <th>2020-09-15</th>\n",
       "      <td>94.33</td>\n",
       "      <td>42.71</td>\n",
       "    </tr>\n",
       "    <tr>\n",
       "      <th>2020-09-16</th>\n",
       "      <td>95.70</td>\n",
       "      <td>42.37</td>\n",
       "    </tr>\n",
       "    <tr>\n",
       "      <th>2020-09-17</th>\n",
       "      <td>96.24</td>\n",
       "      <td>42.50</td>\n",
       "    </tr>\n",
       "    <tr>\n",
       "      <th>2020-09-18</th>\n",
       "      <td>94.57</td>\n",
       "      <td>42.07</td>\n",
       "    </tr>\n",
       "    <tr>\n",
       "      <th>...</th>\n",
       "      <td>...</td>\n",
       "      <td>...</td>\n",
       "    </tr>\n",
       "    <tr>\n",
       "      <th>2025-09-08</th>\n",
       "      <td>256.09</td>\n",
       "      <td>102.28</td>\n",
       "    </tr>\n",
       "    <tr>\n",
       "      <th>2025-09-09</th>\n",
       "      <td>259.11</td>\n",
       "      <td>102.29</td>\n",
       "    </tr>\n",
       "    <tr>\n",
       "      <th>2025-09-10</th>\n",
       "      <td>256.88</td>\n",
       "      <td>100.41</td>\n",
       "    </tr>\n",
       "    <tr>\n",
       "      <th>2025-09-11</th>\n",
       "      <td>257.01</td>\n",
       "      <td>102.65</td>\n",
       "    </tr>\n",
       "    <tr>\n",
       "      <th>2025-09-12</th>\n",
       "      <td>253.44</td>\n",
       "      <td>103.49</td>\n",
       "    </tr>\n",
       "  </tbody>\n",
       "</table>\n",
       "<p>1256 rows × 2 columns</p>\n",
       "</div>"
      ],
      "text/plain": [
       "Ticker         IBM     WMT\n",
       "Date                      \n",
       "2020-09-14   94.06   42.70\n",
       "2020-09-15   94.33   42.71\n",
       "2020-09-16   95.70   42.37\n",
       "2020-09-17   96.24   42.50\n",
       "2020-09-18   94.57   42.07\n",
       "...            ...     ...\n",
       "2025-09-08  256.09  102.28\n",
       "2025-09-09  259.11  102.29\n",
       "2025-09-10  256.88  100.41\n",
       "2025-09-11  257.01  102.65\n",
       "2025-09-12  253.44  103.49\n",
       "\n",
       "[1256 rows x 2 columns]"
      ]
     },
     "execution_count": 6,
     "metadata": {},
     "output_type": "execute_result"
    }
   ],
   "source": [
    "ibm_walmart = ibm_walmart['Close']\n",
    "ibm_walmart"
   ]
  },
  {
   "cell_type": "code",
   "execution_count": 8,
   "id": "2b03a71b-de8b-4e95-8834-3783f3087eba",
   "metadata": {},
   "outputs": [
    {
     "data": {
      "text/plain": [
       "<function matplotlib.pyplot.show(close=None, block=None)>"
      ]
     },
     "execution_count": 8,
     "metadata": {},
     "output_type": "execute_result"
    },
    {
     "data": {
      "image/png": "[encoded data removed]",
      "text/plain": [
       "<Figure size 640x480 with 1 Axes>"
      ]
     },
     "metadata": {},
     "output_type": "display_data"
    }
   ],
   "source": [
    "ibm_walmart['WMT'].plot()\n",
    "ibm_walmart['IBM'].plot()\n",
    "plt.legend(['Walmart', 'IBM'])\n",
    "plt.title('Comparacion de precios Walmart - IBM')\n",
    "plt.show"
   ]
  },
  {
   "cell_type": "code",
   "execution_count": 12,
   "id": "c7cd44eb-0255-47d1-984e-2d5bd821d851",
   "metadata": {},
   "outputs": [
    {
     "data": {
      "text/html": [
       "<div>\n",
       "<style scoped>\n",
       "    .dataframe tbody tr th:only-of-type {\n",
       "        vertical-align: middle;\n",
       "    }\n",
       "\n",
       "    .dataframe tbody tr th {\n",
       "        vertical-align: top;\n",
       "    }\n",
       "\n",
       "    .dataframe thead th {\n",
       "        text-align: right;\n",
       "    }\n",
       "</style>\n",
       "<table border=\"1\" class=\"dataframe\">\n",
       "  <thead>\n",
       "    <tr style=\"text-align: right;\">\n",
       "      <th>Ticker</th>\n",
       "      <th>IBM</th>\n",
       "      <th>WMT</th>\n",
       "    </tr>\n",
       "    <tr>\n",
       "      <th>Date</th>\n",
       "      <th></th>\n",
       "      <th></th>\n",
       "    </tr>\n",
       "  </thead>\n",
       "  <tbody>\n",
       "    <tr>\n",
       "      <th>2020-09-15</th>\n",
       "      <td>0.002871</td>\n",
       "      <td>0.000234</td>\n",
       "    </tr>\n",
       "    <tr>\n",
       "      <th>2020-09-16</th>\n",
       "      <td>0.014523</td>\n",
       "      <td>-0.007961</td>\n",
       "    </tr>\n",
       "    <tr>\n",
       "      <th>2020-09-17</th>\n",
       "      <td>0.005643</td>\n",
       "      <td>0.003068</td>\n",
       "    </tr>\n",
       "    <tr>\n",
       "      <th>2020-09-18</th>\n",
       "      <td>-0.017352</td>\n",
       "      <td>-0.010118</td>\n",
       "    </tr>\n",
       "    <tr>\n",
       "      <th>2020-09-21</th>\n",
       "      <td>-0.020408</td>\n",
       "      <td>0.013073</td>\n",
       "    </tr>\n",
       "    <tr>\n",
       "      <th>...</th>\n",
       "      <td>...</td>\n",
       "      <td>...</td>\n",
       "    </tr>\n",
       "    <tr>\n",
       "      <th>2025-09-08</th>\n",
       "      <td>0.030419</td>\n",
       "      <td>0.017610</td>\n",
       "    </tr>\n",
       "    <tr>\n",
       "      <th>2025-09-09</th>\n",
       "      <td>0.011793</td>\n",
       "      <td>0.000098</td>\n",
       "    </tr>\n",
       "    <tr>\n",
       "      <th>2025-09-10</th>\n",
       "      <td>-0.008606</td>\n",
       "      <td>-0.018379</td>\n",
       "    </tr>\n",
       "    <tr>\n",
       "      <th>2025-09-11</th>\n",
       "      <td>0.000506</td>\n",
       "      <td>0.022309</td>\n",
       "    </tr>\n",
       "    <tr>\n",
       "      <th>2025-09-12</th>\n",
       "      <td>-0.013891</td>\n",
       "      <td>0.008183</td>\n",
       "    </tr>\n",
       "  </tbody>\n",
       "</table>\n",
       "<p>1255 rows × 2 columns</p>\n",
       "</div>"
      ],
      "text/plain": [
       "Ticker           IBM       WMT\n",
       "Date                          \n",
       "2020-09-15  0.002871  0.000234\n",
       "2020-09-16  0.014523 -0.007961\n",
       "2020-09-17  0.005643  0.003068\n",
       "2020-09-18 -0.017352 -0.010118\n",
       "2020-09-21 -0.020408  0.013073\n",
       "...              ...       ...\n",
       "2025-09-08  0.030419  0.017610\n",
       "2025-09-09  0.011793  0.000098\n",
       "2025-09-10 -0.008606 -0.018379\n",
       "2025-09-11  0.000506  0.022309\n",
       "2025-09-12 -0.013891  0.008183\n",
       "\n",
       "[1255 rows x 2 columns]"
      ]
     },
     "execution_count": 12,
     "metadata": {},
     "output_type": "execute_result"
    }
   ],
   "source": [
    "rend_ibm_walmart = ibm_walmart.pct_change()\n",
    "rend_ibm_walmart = rend_ibm_walmart.dropna()\n",
    "rend_ibm_walmart"
   ]
  },
  {
   "cell_type": "code",
   "execution_count": 14,
   "id": "6b904e6a-5a88-46e9-8054-4cd7463c9396",
   "metadata": {},
   "outputs": [
    {
     "name": "stdout",
     "output_type": "stream",
     "text": [
      "Correlacion entre Walmart y IBM 0.2175162483626146\n"
     ]
    }
   ],
   "source": [
    "correlacion = rend_ibm_walmart['WMT'].corr(rend_ibm_walmart['IBM'])\n",
    "print(\"Correlacion entre Walmart y IBM\", correlacion)"
   ]
  },
  {
   "cell_type": "code",
   "execution_count": 16,
   "id": "e44b4cd6-f6df-4565-970a-b9f4c702d01f",
   "metadata": {},
   "outputs": [
    {
     "data": {
      "image/png": "[encoded data removed]",
      "text/plain": [
       "<Figure size 640x480 with 1 Axes>"
      ]
     },
     "metadata": {},
     "output_type": "display_data"
    }
   ],
   "source": [
    "# Crear grafico de dispersion\n",
    "plt.scatter(rend_ibm_walmart['WMT'], rend_ibm_walmart['IBM'])\n",
    "plt.show()"
   ]
  },
  {
   "cell_type": "code",
   "execution_count": 18,
   "id": "be5881a7-168d-4285-be85-aaa2d4e111d2",
   "metadata": {},
   "outputs": [
    {
     "data": {
      "text/html": [
       "<div>\n",
       "<style scoped>\n",
       "    .dataframe tbody tr th:only-of-type {\n",
       "        vertical-align: middle;\n",
       "    }\n",
       "\n",
       "    .dataframe tbody tr th {\n",
       "        vertical-align: top;\n",
       "    }\n",
       "\n",
       "    .dataframe thead th {\n",
       "        text-align: right;\n",
       "    }\n",
       "</style>\n",
       "<table border=\"1\" class=\"dataframe\">\n",
       "  <thead>\n",
       "    <tr style=\"text-align: right;\">\n",
       "      <th></th>\n",
       "      <th>const</th>\n",
       "      <th>IBM</th>\n",
       "      <th>WMT</th>\n",
       "    </tr>\n",
       "    <tr>\n",
       "      <th>Date</th>\n",
       "      <th></th>\n",
       "      <th></th>\n",
       "      <th></th>\n",
       "    </tr>\n",
       "  </thead>\n",
       "  <tbody>\n",
       "    <tr>\n",
       "      <th>2020-09-15</th>\n",
       "      <td>1.0</td>\n",
       "      <td>0.002871</td>\n",
       "      <td>0.000234</td>\n",
       "    </tr>\n",
       "    <tr>\n",
       "      <th>2020-09-16</th>\n",
       "      <td>1.0</td>\n",
       "      <td>0.014523</td>\n",
       "      <td>-0.007961</td>\n",
       "    </tr>\n",
       "    <tr>\n",
       "      <th>2020-09-17</th>\n",
       "      <td>1.0</td>\n",
       "      <td>0.005643</td>\n",
       "      <td>0.003068</td>\n",
       "    </tr>\n",
       "    <tr>\n",
       "      <th>2020-09-18</th>\n",
       "      <td>1.0</td>\n",
       "      <td>-0.017352</td>\n",
       "      <td>-0.010118</td>\n",
       "    </tr>\n",
       "    <tr>\n",
       "      <th>2020-09-21</th>\n",
       "      <td>1.0</td>\n",
       "      <td>-0.020408</td>\n",
       "      <td>0.013073</td>\n",
       "    </tr>\n",
       "    <tr>\n",
       "      <th>...</th>\n",
       "      <td>...</td>\n",
       "      <td>...</td>\n",
       "      <td>...</td>\n",
       "    </tr>\n",
       "    <tr>\n",
       "      <th>2025-09-08</th>\n",
       "      <td>1.0</td>\n",
       "      <td>0.030419</td>\n",
       "      <td>0.017610</td>\n",
       "    </tr>\n",
       "    <tr>\n",
       "      <th>2025-09-09</th>\n",
       "      <td>1.0</td>\n",
       "      <td>0.011793</td>\n",
       "      <td>0.000098</td>\n",
       "    </tr>\n",
       "    <tr>\n",
       "      <th>2025-09-10</th>\n",
       "      <td>1.0</td>\n",
       "      <td>-0.008606</td>\n",
       "      <td>-0.018379</td>\n",
       "    </tr>\n",
       "    <tr>\n",
       "      <th>2025-09-11</th>\n",
       "      <td>1.0</td>\n",
       "      <td>0.000506</td>\n",
       "      <td>0.022309</td>\n",
       "    </tr>\n",
       "    <tr>\n",
       "      <th>2025-09-12</th>\n",
       "      <td>1.0</td>\n",
       "      <td>-0.013891</td>\n",
       "      <td>0.008183</td>\n",
       "    </tr>\n",
       "  </tbody>\n",
       "</table>\n",
       "<p>1255 rows × 3 columns</p>\n",
       "</div>"
      ],
      "text/plain": [
       "            const       IBM       WMT\n",
       "Date                                 \n",
       "2020-09-15    1.0  0.002871  0.000234\n",
       "2020-09-16    1.0  0.014523 -0.007961\n",
       "2020-09-17    1.0  0.005643  0.003068\n",
       "2020-09-18    1.0 -0.017352 -0.010118\n",
       "2020-09-21    1.0 -0.020408  0.013073\n",
       "...           ...       ...       ...\n",
       "2025-09-08    1.0  0.030419  0.017610\n",
       "2025-09-09    1.0  0.011793  0.000098\n",
       "2025-09-10    1.0 -0.008606 -0.018379\n",
       "2025-09-11    1.0  0.000506  0.022309\n",
       "2025-09-12    1.0 -0.013891  0.008183\n",
       "\n",
       "[1255 rows x 3 columns]"
      ]
     },
     "execution_count": 18,
     "metadata": {},
     "output_type": "execute_result"
    }
   ],
   "source": [
    "# Modelo de regresion simple\n",
    "import statsmodels.api as sm\n",
    "rend_ibm_walmart = sm.add_constant(rend_ibm_walmart)\n",
    "rend_ibm_walmart"
   ]
  },
  {
   "cell_type": "code",
   "execution_count": 20,
   "id": "da0e4b7c-62e7-438f-92b8-adc4f4e4f403",
   "metadata": {},
   "outputs": [
    {
     "name": "stdout",
     "output_type": "stream",
     "text": [
      "                            OLS Regression Results                            \n",
      "==============================================================================\n",
      "Dep. Variable:                    WMT   R-squared:                       0.047\n",
      "Model:                            OLS   Adj. R-squared:                  0.047\n",
      "Method:                 Least Squares   F-statistic:                     62.23\n",
      "Date:                Fri, 12 Sep 2025   Prob (F-statistic):           6.62e-15\n",
      "Time:                        19:42:10   Log-Likelihood:                 3703.8\n",
      "No. Observations:                1255   AIC:                            -7404.\n",
      "Df Residuals:                    1253   BIC:                            -7393.\n",
      "Df Model:                           1                                         \n",
      "Covariance Type:            nonrobust                                         \n",
      "==============================================================================\n",
      "                 coef    std err          t      P>|t|      [0.025      0.975]\n",
      "------------------------------------------------------------------------------\n",
      "const          0.0006      0.000      1.732      0.084   -8.24e-05       0.001\n",
      "IBM            0.1887      0.024      7.888      0.000       0.142       0.236\n",
      "==============================================================================\n",
      "Omnibus:                      372.867   Durbin-Watson:                   1.948\n",
      "Prob(Omnibus):                  0.000   Jarque-Bera (JB):             8721.251\n",
      "Skew:                          -0.815   Prob(JB):                         0.00\n",
      "Kurtosis:                      15.811   Cond. No.                         67.0\n",
      "==============================================================================\n",
      "\n",
      "Notes:\n",
      "[1] Standard Errors assume that the covariance matrix of the errors is correctly specified.\n"
     ]
    }
   ],
   "source": [
    "regresion = sm.OLS(rend_ibm_walmart['WMT'], rend_ibm_walmart[['const', 'IBM']]).fit()\n",
    "print(regresion.summary())"
   ]
  },
  {
   "cell_type": "code",
   "execution_count": 26,
   "id": "3854ad88-0d71-4faa-ad4a-a67ed14cbf68",
   "metadata": {},
   "outputs": [],
   "source": [
    "walmart = ibm_walmart['WMT']\n",
    "ibm = ibm_walmart['IBM']"
   ]
  },
  {
   "cell_type": "code",
   "execution_count": 28,
   "id": "f6aa812f-ff09-47fe-b09b-ce284e17e323",
   "metadata": {},
   "outputs": [
    {
     "name": "stdout",
     "output_type": "stream",
     "text": [
      "El valor p de la prueba para Walmart es: 0.9971585516551154\n",
      "El valor p de la prueba para IBM es: 0.9580224456565243\n"
     ]
    }
   ],
   "source": [
    "# Prueba Dickey-Fuller\n",
    "from statsmodels.tsa.stattools import adfuller\n",
    "import numpy as np\n",
    "\n",
    "resultado_wmt = adfuller(walmart)\n",
    "print(\"El valor p de la prueba para Walmart es: \" + str(resultado_wmt[1]))\n",
    "\n",
    "resultado_ibm = adfuller(ibm)\n",
    "print(\"El valor p de la prueba para IBM es: \" + str(resultado_ibm[1]))"
   ]
  },
  {
   "cell_type": "code",
   "execution_count": 32,
   "id": "8dfb426f-862a-4db0-a6d5-4644e8844b31",
   "metadata": {},
   "outputs": [
    {
     "data": {
      "image/png": "[encoded data removed]",
      "text/plain": [
       "<Figure size 640x480 with 1 Axes>"
      ]
     },
     "metadata": {},
     "output_type": "display_data"
    },
    {
     "data": {
      "image/png": "[encoded data removed]",
      "text/plain": [
       "<Figure size 640x480 with 1 Axes>"
      ]
     },
     "metadata": {},
     "output_type": "display_data"
    }
   ],
   "source": [
    "# Graficacion de la media movil para IBM\n",
    "rolling_ibm = ibm.rolling(30).mean()\n",
    "ibm.plot()\n",
    "rolling_ibm.plot()\n",
    "plt.title(\"Precios historicos de IBM vs Promedios Moviles a 30 dias\")\n",
    "plt.legend(['IBM'], ['Media Movil'])\n",
    "plt.show()\n",
    "\n",
    "# Graficacion de la media movil para Walmart\n",
    "rolling_walmart = walmart.rolling(30).mean()\n",
    "walmart.plot()\n",
    "rolling_walmart.plot()\n",
    "plt.title(\"Precios historicos de Walmart vs Promedios Moviles a 30 dias\")\n",
    "plt.legend(['Walmart'], ['Media Movil'])\n",
    "plt.show()"
   ]
  },
  {
   "cell_type": "code",
   "execution_count": 46,
   "id": "12703c3b-167f-4a76-b46e-6859ceb73852",
   "metadata": {},
   "outputs": [
    {
     "name": "stdout",
     "output_type": "stream",
     "text": [
      "(1256,)\n",
      "(1256,)\n"
     ]
    }
   ],
   "source": [
    "print(walmart.shape)\n",
    "print(ibm.shape)"
   ]
  },
  {
   "cell_type": "code",
   "execution_count": 50,
   "id": "53e383e9-2253-46b3-909b-545f0b8edca5",
   "metadata": {},
   "outputs": [
    {
     "data": {
      "text/plain": [
       "1004"
      ]
     },
     "execution_count": 50,
     "metadata": {},
     "output_type": "execute_result"
    }
   ],
   "source": [
    "len_train = int(1256 * 0.8)\n",
    "len_train"
   ]
  },
  {
   "cell_type": "code",
   "execution_count": 110,
   "id": "605a6d16-57db-4b55-bd9b-747b7ae40e57",
   "metadata": {},
   "outputs": [
    {
     "data": {
      "text/plain": [
       "Date\n",
       "2025-09-12    100.170333\n",
       "Name: Pronostico, dtype: float64"
      ]
     },
     "execution_count": 110,
     "metadata": {},
     "output_type": "execute_result"
    }
   ],
   "source": [
    "# Definicion de grupos de entrenamiento Walmart\n",
    "train_wmt = walmart[0 : len_train]\n",
    "test_wmt = walmart[len_train :]\n",
    "\n",
    "# Definimos las variables\n",
    "y_pred_wmt = walmart.copy()\n",
    "y_pred_wmt = pd.DataFrame(y_pred_wmt)\n",
    "\n",
    "y_pred_wmt['Pronostico'] = walmart.rolling(30).mean()\n",
    "y_pred_wmt[0:35]\n",
    "\n",
    "# Pronostico para el siguiente dia\n",
    "y_pred_wmt.tail(1)['Pronostico']"
   ]
  },
  {
   "cell_type": "code",
   "execution_count": 84,
   "id": "97095aa6-c5f1-49c3-a745-9b976ea9b043",
   "metadata": {},
   "outputs": [
    {
     "data": {
      "text/plain": [
       "Date\n",
       "2025-09-12    245.389667\n",
       "Name: Pronostico, dtype: float64"
      ]
     },
     "execution_count": 84,
     "metadata": {},
     "output_type": "execute_result"
    }
   ],
   "source": [
    "# Definicion de grupos de entrenamiento Walmart\n",
    "train_ibm = ibm[0 : len_train]\n",
    "test_ibm = ibm[len_train :]\n",
    "\n",
    "# Definimos las variables\n",
    "y_pred_ibm = ibm.copy()\n",
    "y_pred_ibm = pd.DataFrame(y_pred_ibm)\n",
    "\n",
    "y_pred_ibm['Pronostico'] = ibm.rolling(30).mean()\n",
    "y_pred_ibm[0:35]\n",
    "\n",
    "# Pronostico para el siguiente dia\n",
    "y_pred_ibm.tail(1)['Pronostico']"
   ]
  },
  {
   "cell_type": "code",
   "execution_count": 124,
   "id": "1416fa08-08ef-4ce4-b809-0d18291e89eb",
   "metadata": {},
   "outputs": [],
   "source": [
    "y_pred_wmt2 = pd.DataFrame(y_pred_wmt['Pronostico'][1004:])\n",
    "test_wmt = pd.DataFrame(test_wmt)\n",
    "\n",
    "y_pred_ibm2 = pd.DataFrame(y_pred_ibm['Pronostico'][1004:])\n",
    "test_ibm = pd.DataFrame(test_ibm)\n",
    "\n",
    "rmse_wmt = np.sqrt(mean_squared_error(test_wmt, y_pred_wmt2)).round(2)\n",
    "mape_wmt = np.round(np.mean(np.abs((test_wmt['WMT'] - y_pred_wmt2['Pronostico'])/test_wmt['WMT'])) * 100, 2)\n",
    "\n",
    "rmse_ibm = np.sqrt(mean_squared_error(test_ibm, y_pred_ibm2)).round(2)\n",
    "mape_ibm = np.round(np.mean(np.abs((test_ibm['IBM'] - y_pred_ibm2['Pronostico'])/test_ibm['IBM'])) * 100, 2)"
   ]
  },
  {
   "cell_type": "code",
   "execution_count": 126,
   "id": "30a9b6c7-a3be-4181-87ba-7c626aa53638",
   "metadata": {},
   "outputs": [
    {
     "name": "stdout",
     "output_type": "stream",
     "text": [
      "RMSE Walmart = 4.52 MAPE Walmart = 3.87\n",
      "RMSE IBM = 14.84 MAPE IBM = 5.12\n"
     ]
    }
   ],
   "source": [
    "print(\"RMSE Walmart =\", rmse_wmt, \"MAPE Walmart =\", mape_wmt)\n",
    "print(\"RMSE IBM =\", rmse_ibm, \"MAPE IBM =\", mape_ibm)"
   ]
  },
  {
   "cell_type": "markdown",
   "id": "56f50111-e46f-42d3-89da-b03b31a0884c",
   "metadata": {},
   "source": [
    "# Conclusion:\n",
    "1. No existe correlacion entre las dos compañias, ya que vemos el grafico con una concentracion en el centro (0, 0).\n",
    "2. Podemos tener cierto grado de confianza en los pronosticos que obtuvimos para el dia siguiente, ya que vemos un RMSE y un MAPE muy bajos en relacion al precio pronosticado en cada uno de las compañias."
   ]
  },
  {
   "cell_type": "code",
   "execution_count": null,
   "id": "003b3d82-8500-47f6-a4b8-88e0c8f3e71e",
   "metadata": {},
   "outputs": [],
   "source": []
  }
 ],
 "metadata": {
  "kernelspec": {
   "display_name": "Python 3 (ipykernel)",
   "language": "python",
   "name": "python3"
  },
  "language_info": {
   "codemirror_mode": {
    "name": "ipython",
    "version": 3
   },
   "file_extension": ".py",
   "mimetype": "text/x-python",
   "name": "python",
   "nbconvert_exporter": "python",
   "pygments_lexer": "ipython3",
   "version": "3.12.4"
  }
 },
 "nbformat": 4,
 "nbformat_minor": 5
}
