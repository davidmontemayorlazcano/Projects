{
 "cells": [
  {
   "cell_type": "code",
   "execution_count": 1,
   "id": "916d3f22-cee3-4a81-9d2c-4fa042ec6681",
   "metadata": {},
   "outputs": [],
   "source": [
    "import pandas as pd\n",
    "import pylab as pl\n",
    "import numpy as np\n",
    "from sklearn.linear_model import LogisticRegression\n",
    "from sklearn.model_selection import train_test_split\n",
    "from sklearn import metrics\n",
    "import matplotlib.pyplot as plt\n",
    "import warnings\n",
    "from sklearn.metrics import confusion_matrix\n",
    "from sklearn.metrics import classification_report\n",
    "warnings.filterwarnings('ignore')\n",
    "import os\n",
    "os.chdir('/Users/Lenovo/Desktop/EBAC')"
   ]
  },
  {
   "cell_type": "code",
   "execution_count": 3,
   "id": "10ecf7c1-c10b-4e13-9c34-46142bb4848c",
   "metadata": {},
   "outputs": [
    {
     "data": {
      "text/html": [
       "<div>\n",
       "<style scoped>\n",
       "    .dataframe tbody tr th:only-of-type {\n",
       "        vertical-align: middle;\n",
       "    }\n",
       "\n",
       "    .dataframe tbody tr th {\n",
       "        vertical-align: top;\n",
       "    }\n",
       "\n",
       "    .dataframe thead th {\n",
       "        text-align: right;\n",
       "    }\n",
       "</style>\n",
       "<table border=\"1\" class=\"dataframe\">\n",
       "  <thead>\n",
       "    <tr style=\"text-align: right;\">\n",
       "      <th></th>\n",
       "      <th>Age</th>\n",
       "      <th>Sex</th>\n",
       "      <th>BP</th>\n",
       "      <th>Cholesterol</th>\n",
       "      <th>Na_to_K</th>\n",
       "      <th>Drug</th>\n",
       "    </tr>\n",
       "  </thead>\n",
       "  <tbody>\n",
       "    <tr>\n",
       "      <th>0</th>\n",
       "      <td>23</td>\n",
       "      <td>F</td>\n",
       "      <td>HIGH</td>\n",
       "      <td>HIGH</td>\n",
       "      <td>25.355</td>\n",
       "      <td>drugY</td>\n",
       "    </tr>\n",
       "    <tr>\n",
       "      <th>1</th>\n",
       "      <td>47</td>\n",
       "      <td>M</td>\n",
       "      <td>LOW</td>\n",
       "      <td>HIGH</td>\n",
       "      <td>13.093</td>\n",
       "      <td>drugC</td>\n",
       "    </tr>\n",
       "    <tr>\n",
       "      <th>2</th>\n",
       "      <td>47</td>\n",
       "      <td>M</td>\n",
       "      <td>LOW</td>\n",
       "      <td>HIGH</td>\n",
       "      <td>10.114</td>\n",
       "      <td>drugC</td>\n",
       "    </tr>\n",
       "    <tr>\n",
       "      <th>3</th>\n",
       "      <td>28</td>\n",
       "      <td>F</td>\n",
       "      <td>NORMAL</td>\n",
       "      <td>HIGH</td>\n",
       "      <td>7.798</td>\n",
       "      <td>drugX</td>\n",
       "    </tr>\n",
       "    <tr>\n",
       "      <th>4</th>\n",
       "      <td>61</td>\n",
       "      <td>F</td>\n",
       "      <td>LOW</td>\n",
       "      <td>HIGH</td>\n",
       "      <td>18.043</td>\n",
       "      <td>drugY</td>\n",
       "    </tr>\n",
       "    <tr>\n",
       "      <th>...</th>\n",
       "      <td>...</td>\n",
       "      <td>...</td>\n",
       "      <td>...</td>\n",
       "      <td>...</td>\n",
       "      <td>...</td>\n",
       "      <td>...</td>\n",
       "    </tr>\n",
       "    <tr>\n",
       "      <th>195</th>\n",
       "      <td>56</td>\n",
       "      <td>F</td>\n",
       "      <td>LOW</td>\n",
       "      <td>HIGH</td>\n",
       "      <td>11.567</td>\n",
       "      <td>drugC</td>\n",
       "    </tr>\n",
       "    <tr>\n",
       "      <th>196</th>\n",
       "      <td>16</td>\n",
       "      <td>M</td>\n",
       "      <td>LOW</td>\n",
       "      <td>HIGH</td>\n",
       "      <td>12.006</td>\n",
       "      <td>drugC</td>\n",
       "    </tr>\n",
       "    <tr>\n",
       "      <th>197</th>\n",
       "      <td>52</td>\n",
       "      <td>M</td>\n",
       "      <td>NORMAL</td>\n",
       "      <td>HIGH</td>\n",
       "      <td>9.894</td>\n",
       "      <td>drugX</td>\n",
       "    </tr>\n",
       "    <tr>\n",
       "      <th>198</th>\n",
       "      <td>23</td>\n",
       "      <td>M</td>\n",
       "      <td>NORMAL</td>\n",
       "      <td>NORMAL</td>\n",
       "      <td>14.020</td>\n",
       "      <td>drugX</td>\n",
       "    </tr>\n",
       "    <tr>\n",
       "      <th>199</th>\n",
       "      <td>40</td>\n",
       "      <td>F</td>\n",
       "      <td>LOW</td>\n",
       "      <td>NORMAL</td>\n",
       "      <td>11.349</td>\n",
       "      <td>drugX</td>\n",
       "    </tr>\n",
       "  </tbody>\n",
       "</table>\n",
       "<p>200 rows × 6 columns</p>\n",
       "</div>"
      ],
      "text/plain": [
       "     Age Sex      BP Cholesterol  Na_to_K   Drug\n",
       "0     23   F    HIGH        HIGH   25.355  drugY\n",
       "1     47   M     LOW        HIGH   13.093  drugC\n",
       "2     47   M     LOW        HIGH   10.114  drugC\n",
       "3     28   F  NORMAL        HIGH    7.798  drugX\n",
       "4     61   F     LOW        HIGH   18.043  drugY\n",
       "..   ...  ..     ...         ...      ...    ...\n",
       "195   56   F     LOW        HIGH   11.567  drugC\n",
       "196   16   M     LOW        HIGH   12.006  drugC\n",
       "197   52   M  NORMAL        HIGH    9.894  drugX\n",
       "198   23   M  NORMAL      NORMAL   14.020  drugX\n",
       "199   40   F     LOW      NORMAL   11.349  drugX\n",
       "\n",
       "[200 rows x 6 columns]"
      ]
     },
     "execution_count": 3,
     "metadata": {},
     "output_type": "execute_result"
    }
   ],
   "source": [
    "data = pd.read_csv('drugs1.csv')\n",
    "data"
   ]
  },
  {
   "cell_type": "code",
   "execution_count": 5,
   "id": "820f70f6-95a6-4754-8175-39ed37ceecd6",
   "metadata": {},
   "outputs": [],
   "source": [
    "features_cols = ['Age', 'Sex', 'BP', 'Cholesterol', 'Na_to_K']\n",
    "X = data[features_cols].values\n",
    "y = data.Drug"
   ]
  },
  {
   "cell_type": "code",
   "execution_count": 7,
   "id": "3bcc2508-6214-4bb8-bc1e-28c8fa44d34f",
   "metadata": {},
   "outputs": [],
   "source": [
    "from sklearn import preprocessing\n",
    "Cod_Sex = preprocessing.LabelEncoder()\n",
    "Cod_Sex.fit(['F', 'M'])\n",
    "X[:,1] = Cod_Sex.transform(X[:,1])\n",
    "\n",
    "Cod_BP = preprocessing.LabelEncoder()\n",
    "Cod_BP.fit(['HIGH', 'LOW', 'NORMAL'])\n",
    "X[:,2] = Cod_BP.transform(X[:,2])\n",
    "\n",
    "Cod_Cholesterol = preprocessing.LabelEncoder()\n",
    "Cod_Cholesterol.fit(['HIGH', 'LOW', 'NORMAL'])\n",
    "X[:,3] = Cod_Cholesterol.transform(X[:,3])"
   ]
  },
  {
   "cell_type": "code",
   "execution_count": 9,
   "id": "c955d0e3-4394-44b6-86c3-0fca9dbea318",
   "metadata": {},
   "outputs": [],
   "source": [
    "# Creacion de grupos de entrenamiento y prueba\n",
    "X_train, X_test, y_train, y_test = train_test_split(X, y, test_size = 0.3, random_state = 1)"
   ]
  },
  {
   "cell_type": "markdown",
   "id": "7f34245d-dc91-4d72-8fbe-08f279e47550",
   "metadata": {},
   "source": [
    "# Regresion logistica con Solucionador (Solver): sag"
   ]
  },
  {
   "cell_type": "code",
   "execution_count": 12,
   "id": "96a0e312-1d3f-4ce6-801a-de6ddd5e69de",
   "metadata": {},
   "outputs": [
    {
     "name": "stdout",
     "output_type": "stream",
     "text": [
      "Intercepto (Beta0):  [ 0.25207028 -0.08295724  0.09391024  0.21916712 -0.48219041]\n",
      "Pesos de cada variable (Beta1, Beta2, ..., Beta7):  [[-0.02543513  0.15505068 -0.63735024  0.12174788  0.10071363]\n",
      " [ 0.07208856 -0.06031722 -0.51824822 -0.11326672 -0.29048744]\n",
      " [-0.00437994  0.01393438  0.14886401 -0.39560134  0.00341319]\n",
      " [ 0.01153286 -0.08992082  1.17809626  0.53268686 -0.12734421]\n",
      " [-0.05380635 -0.01874702 -0.17136182 -0.14556668  0.31370484]]\n",
      "----------------------------------------------------------------------------------------------------------------------------------------------\n",
      "Score de precision:  0.7833333333333333\n",
      "----------------------------------------------------------------------------------------------------------------------------------------------\n",
      "              precision    recall  f1-score   support\n",
      "\n",
      "       drugA       0.33      0.25      0.29         4\n",
      "       drugB       0.57      0.67      0.62         6\n",
      "       drugC       0.00      0.00      0.00         4\n",
      "       drugX       0.85      0.89      0.87        19\n",
      "       drugY       0.83      0.93      0.88        27\n",
      "\n",
      "    accuracy                           0.78        60\n",
      "   macro avg       0.52      0.55      0.53        60\n",
      "weighted avg       0.72      0.78      0.75        60\n",
      "\n"
     ]
    }
   ],
   "source": [
    "model = LogisticRegression(solver = 'sag')\n",
    "clf = model.fit(X_train, y_train)\n",
    "\n",
    "# Prediccion de etiquetas de clase sobre datos de prueba\n",
    "y_pred = model.predict(X_test)\n",
    "\n",
    "# Impresion de coeficientes de la regresion de puntajes\n",
    "print('Intercepto (Beta0): ', clf.intercept_)\n",
    "print('Pesos de cada variable (Beta1, Beta2, ..., Beta7): ', clf.coef_)\n",
    "\n",
    "print('----------------------------------------------------------------------------------------------------------------------------------------------')\n",
    "\n",
    "# Evaluacion de la precision del modelo\n",
    "score = model.score(X_test, y_test)\n",
    "print('Score de precision: ', score)\n",
    "\n",
    "print('----------------------------------------------------------------------------------------------------------------------------------------------')\n",
    "\n",
    "# Reporte de clasificacion\n",
    "print(classification_report(y_test, y_pred))"
   ]
  },
  {
   "cell_type": "markdown",
   "id": "44025894-7a4e-4451-80c2-15a89b062c02",
   "metadata": {},
   "source": [
    "# Resgresion logistica con Solucionador (Solver): newton-cg"
   ]
  },
  {
   "cell_type": "code",
   "execution_count": 26,
   "id": "6d54a898-d32c-46b7-8887-2ddca12f391b",
   "metadata": {},
   "outputs": [
    {
     "name": "stdout",
     "output_type": "stream",
     "text": [
      "Intercepto (Beta0):  [ 14.48790715  -0.08512375  10.50580619   5.75638881 -30.6649784 ]\n",
      "Pesos de cada variable (Beta1, Beta2, ..., Beta7):  [[-8.96856681e-02  6.77268617e-02 -2.33960214e+00 -2.36744718e-01\n",
      "  -6.33653119e-01]\n",
      " [ 1.42467196e-01 -1.52212913e-01 -1.59788400e+00 -1.32018905e-01\n",
      "  -4.42440147e-01]\n",
      " [-3.38662547e-02  2.54380976e-04  4.21069578e-01 -1.14094176e+00\n",
      "  -5.85695514e-01]\n",
      " [-7.31005987e-03 -3.94719449e-01  3.09381357e+00  1.26917979e+00\n",
      "  -5.67169846e-01]\n",
      " [-1.16052125e-02  4.78951120e-01  4.22602991e-01  2.40525596e-01\n",
      "   2.22895863e+00]]\n",
      "----------------------------------------------------------------------------------------------------------------------------------------------\n",
      "Score de precision:  0.95\n",
      "----------------------------------------------------------------------------------------------------------------------------------------------\n",
      "              precision    recall  f1-score   support\n",
      "\n",
      "       drugA       0.80      1.00      0.89         4\n",
      "       drugB       0.71      0.83      0.77         6\n",
      "       drugC       1.00      0.50      0.67         4\n",
      "       drugX       1.00      1.00      1.00        19\n",
      "       drugY       1.00      1.00      1.00        27\n",
      "\n",
      "    accuracy                           0.95        60\n",
      "   macro avg       0.90      0.87      0.86        60\n",
      "weighted avg       0.96      0.95      0.95        60\n",
      "\n"
     ]
    }
   ],
   "source": [
    "model = LogisticRegression(solver = 'newton-cg')\n",
    "clf = model.fit(X_train, y_train)\n",
    "\n",
    "# Prediccion de etiquetas de clase sobre datos de prueba\n",
    "y_pred = model.predict(X_test)\n",
    "\n",
    "# Impresion de coeficientes de la regresion de puntajes\n",
    "print('Intercepto (Beta0): ', clf.intercept_)\n",
    "print('Pesos de cada variable (Beta1, Beta2, ..., Beta7): ', clf.coef_)\n",
    "\n",
    "print('----------------------------------------------------------------------------------------------------------------------------------------------')\n",
    "\n",
    "# Evaluacion de la precision del modelo\n",
    "score = model.score(X_test, y_test)\n",
    "print('Score de precision: ', score)\n",
    "\n",
    "print('----------------------------------------------------------------------------------------------------------------------------------------------')\n",
    "\n",
    "# Reporte de clasificacion\n",
    "print(classification_report(y_test, y_pred))"
   ]
  },
  {
   "cell_type": "markdown",
   "id": "14f273b5-fa7d-4d0f-9852-173c18fc03a7",
   "metadata": {},
   "source": [
    "# Resgresion logistica con Solucionador (Solver): liblinear"
   ]
  },
  {
   "cell_type": "code",
   "execution_count": 18,
   "id": "e0bad59d-560c-4a48-ba38-fc61af223e75",
   "metadata": {},
   "outputs": [
    {
     "name": "stdout",
     "output_type": "stream",
     "text": [
      "Intercepto (Beta0):  [ 2.31089578 -0.65080868  0.6825165   0.16513608 -4.27580351]\n",
      "Pesos de cada variable (Beta1, Beta2, ..., Beta7):  [[-0.02428697  0.42805745 -2.29889241 -0.14361067 -0.16573028]\n",
      " [ 0.11187746 -0.52110997 -2.33619921 -0.54425809 -0.45569985]\n",
      " [-0.00360594  0.0611196   0.01560035 -1.39441786 -0.17622994]\n",
      " [ 0.01055564 -0.71011324  3.12578883  1.45357325 -0.47400147]\n",
      " [-0.0414012   0.16666879 -0.24890702 -0.21347592  0.42761027]]\n",
      "----------------------------------------------------------------------------------------------------------------------------------------------\n",
      "Score de precision:  0.85\n",
      "----------------------------------------------------------------------------------------------------------------------------------------------\n",
      "              precision    recall  f1-score   support\n",
      "\n",
      "       drugA       0.60      0.75      0.67         4\n",
      "       drugB       0.57      0.67      0.62         6\n",
      "       drugC       1.00      0.25      0.40         4\n",
      "       drugX       0.86      1.00      0.93        19\n",
      "       drugY       0.96      0.89      0.92        27\n",
      "\n",
      "    accuracy                           0.85        60\n",
      "   macro avg       0.80      0.71      0.71        60\n",
      "weighted avg       0.87      0.85      0.84        60\n",
      "\n"
     ]
    }
   ],
   "source": [
    "model = LogisticRegression(solver = 'liblinear')\n",
    "clf = model.fit(X_train, y_train)\n",
    "\n",
    "# Prediccion de etiquetas de clase sobre datos de prueba\n",
    "y_pred = model.predict(X_test)\n",
    "\n",
    "# Impresion de coeficientes de la regresion de puntajes\n",
    "print('Intercepto (Beta0): ', clf.intercept_)\n",
    "print('Pesos de cada variable (Beta1, Beta2, ..., Beta7): ', clf.coef_)\n",
    "\n",
    "print('----------------------------------------------------------------------------------------------------------------------------------------------')\n",
    "\n",
    "# Evaluacion de la precision del modelo\n",
    "score = model.score(X_test, y_test)\n",
    "print('Score de precision: ', score)\n",
    "\n",
    "print('----------------------------------------------------------------------------------------------------------------------------------------------')\n",
    "\n",
    "# Reporte de clasificacion\n",
    "print(classification_report(y_test, y_pred))"
   ]
  },
  {
   "cell_type": "markdown",
   "id": "56f677f9-9c48-45f4-9726-fc9c3574a13d",
   "metadata": {},
   "source": [
    "# Resgresion logistica con Solucionador (Solver): saga"
   ]
  },
  {
   "cell_type": "code",
   "execution_count": 21,
   "id": "2d012371-83c7-4231-bcfb-022ab42ef869",
   "metadata": {},
   "outputs": [
    {
     "name": "stdout",
     "output_type": "stream",
     "text": [
      "Intercepto (Beta0):  [ 0.1265274  -0.0522943   0.04611565  0.13371509 -0.25406383]\n",
      "Pesos de cada variable (Beta1, Beta2, ..., Beta7):  [[-0.02337324  0.08785222 -0.37363311  0.08269469  0.08925732]\n",
      " [ 0.06354411 -0.03265927 -0.3150302  -0.06978496 -0.27327782]\n",
      " [-0.00356606  0.00812699  0.07605    -0.24470664 -0.00516823]\n",
      " [ 0.01628445 -0.04410388  0.74523258  0.35058191 -0.09611223]\n",
      " [-0.05288925 -0.01921606 -0.13261927 -0.118785    0.28530096]]\n",
      "----------------------------------------------------------------------------------------------------------------------------------------------\n",
      "Score de precision:  0.75\n",
      "----------------------------------------------------------------------------------------------------------------------------------------------\n",
      "              precision    recall  f1-score   support\n",
      "\n",
      "       drugA       0.00      0.00      0.00         4\n",
      "       drugB       0.57      0.67      0.62         6\n",
      "       drugC       0.00      0.00      0.00         4\n",
      "       drugX       0.75      0.79      0.77        19\n",
      "       drugY       0.79      0.96      0.87        27\n",
      "\n",
      "    accuracy                           0.75        60\n",
      "   macro avg       0.42      0.48      0.45        60\n",
      "weighted avg       0.65      0.75      0.70        60\n",
      "\n"
     ]
    }
   ],
   "source": [
    "model = LogisticRegression(solver = 'saga')\n",
    "clf = model.fit(X_train, y_train)\n",
    "\n",
    "# Prediccion de etiquetas de clase sobre datos de prueba\n",
    "y_pred = model.predict(X_test)\n",
    "\n",
    "# Impresion de coeficientes de la regresion de puntajes\n",
    "print('Intercepto (Beta0): ', clf.intercept_)\n",
    "print('Pesos de cada variable (Beta1, Beta2, ..., Beta7): ', clf.coef_)\n",
    "\n",
    "print('----------------------------------------------------------------------------------------------------------------------------------------------')\n",
    "\n",
    "# Evaluacion de la precision del modelo\n",
    "score = model.score(X_test, y_test)\n",
    "print('Score de precision: ', score)\n",
    "\n",
    "print('----------------------------------------------------------------------------------------------------------------------------------------------')\n",
    "\n",
    "# Reporte de clasificacion\n",
    "print(classification_report(y_test, y_pred))"
   ]
  },
  {
   "cell_type": "markdown",
   "id": "a276d3bd-b1d8-4ccd-9361-16a14990f1d7",
   "metadata": {},
   "source": [
    "# Resgresion logistica con Solucionador (Solver): lbfgs"
   ]
  },
  {
   "cell_type": "code",
   "execution_count": 24,
   "id": "4edfb91f-2c89-4151-921d-44c7f7be35e7",
   "metadata": {},
   "outputs": [
    {
     "name": "stdout",
     "output_type": "stream",
     "text": [
      "Intercepto (Beta0):  [ 1.16939214 -0.31971945  0.54355859  0.7087925  -2.10202379]\n",
      "Pesos de cada variable (Beta1, Beta2, ..., Beta7):  [[-0.03833878  0.47809653 -2.01089716 -0.08237991  0.16267787]\n",
      " [ 0.09852575 -0.23784054 -1.80071268 -0.39446806 -0.28193157]\n",
      " [ 0.0100157   0.0773516   0.49128879 -1.13697752 -0.04849119]\n",
      " [-0.01344921 -0.43843358  3.43060162  1.59338483 -0.30371246]\n",
      " [-0.05675346  0.12082599 -0.11028058  0.02044065  0.47145735]]\n",
      "----------------------------------------------------------------------------------------------------------------------------------------------\n",
      "Score de precision:  0.8333333333333334\n",
      "----------------------------------------------------------------------------------------------------------------------------------------------\n",
      "              precision    recall  f1-score   support\n",
      "\n",
      "       drugA       0.60      0.75      0.67         4\n",
      "       drugB       0.57      0.67      0.62         6\n",
      "       drugC       0.00      0.00      0.00         4\n",
      "       drugX       0.83      1.00      0.90        19\n",
      "       drugY       0.96      0.89      0.92        27\n",
      "\n",
      "    accuracy                           0.83        60\n",
      "   macro avg       0.59      0.66      0.62        60\n",
      "weighted avg       0.79      0.83      0.81        60\n",
      "\n"
     ]
    }
   ],
   "source": [
    "model = LogisticRegression(solver = 'lbfgs')\n",
    "clf = model.fit(X_train, y_train)\n",
    "\n",
    "# Prediccion de etiquetas de clase sobre datos de prueba\n",
    "y_pred = model.predict(X_test)\n",
    "\n",
    "# Impresion de coeficientes de la regresion de puntajes\n",
    "print('Intercepto (Beta0): ', clf.intercept_)\n",
    "print('Pesos de cada variable (Beta1, Beta2, ..., Beta7): ', clf.coef_)\n",
    "\n",
    "print('----------------------------------------------------------------------------------------------------------------------------------------------')\n",
    "\n",
    "# Evaluacion de la precision del modelo\n",
    "score = model.score(X_test, y_test)\n",
    "print('Score de precision: ', score)\n",
    "\n",
    "print('----------------------------------------------------------------------------------------------------------------------------------------------')\n",
    "\n",
    "# Reporte de clasificacion\n",
    "print(classification_report(y_test, y_pred))"
   ]
  },
  {
   "cell_type": "markdown",
   "id": "41116408-eb11-4fd0-89c9-8b445569d6b8",
   "metadata": {},
   "source": [
    "# Conclusion\n",
    "Despues de haber evaluado todos los modelos, el mejor modelo de acuerdo al accuracy en F1 Score, fue el de Newton-cg, ya que alcanzo un 95% de acertividad en su pronostico."
   ]
  },
  {
   "cell_type": "markdown",
   "id": "f1ebb077-28b0-4eaf-af87-31acf6fc3f0c",
   "metadata": {},
   "source": [
    "# Eficacia del modelo Newton-cg"
   ]
  },
  {
   "cell_type": "code",
   "execution_count": 44,
   "id": "3925178e-3726-426a-88fc-68b32f855880",
   "metadata": {},
   "outputs": [],
   "source": [
    "classes = np.unique(y_test)\n",
    "n_classes = len(classes)"
   ]
  },
  {
   "cell_type": "code",
   "execution_count": 48,
   "id": "3ee5fccc-412f-4804-9621-8aa338bd05f2",
   "metadata": {},
   "outputs": [],
   "source": [
    "from sklearn.preprocessing import label_binarize\n",
    "from sklearn.metrics import roc_curve, auc, roc_auc_score\n",
    "\n",
    "y_test_bin = label_binarize(y_test, classes=classes)"
   ]
  },
  {
   "cell_type": "code",
   "execution_count": 50,
   "id": "52bc95a6-f632-4328-9269-845d3fa1ca15",
   "metadata": {},
   "outputs": [],
   "source": [
    "y_score = model.predict_proba(X_test)"
   ]
  },
  {
   "cell_type": "code",
   "execution_count": 58,
   "id": "d72ef007-c5f6-4d91-b8df-d93b69850253",
   "metadata": {},
   "outputs": [
    {
     "data": {
      "image/png": "[encoded data removed]",
      "text/plain": [
       "<Figure size 640x480 with 1 Axes>"
      ]
     },
     "metadata": {},
     "output_type": "display_data"
    }
   ],
   "source": [
    "for i in range(n_classes):\n",
    "    fpr, tpr, _ = roc_curve(y_test_bin[:, i], y_score[:, i])\n",
    "    roc_auc = auc(fpr, tpr)\n",
    "    plt.plot(fpr, tpr, label=f'Clase {classes[i]} (AUC = {roc_auc:.2f})')\n",
    "\n",
    "plt.plot([0, 1], [0, 1], 'k--')\n",
    "plt.xlabel('False Positive Rate')\n",
    "plt.ylabel('True Positive Rate')\n",
    "plt.title('Curvas ROC por clase (One-vs-Rest)')\n",
    "plt.legend(loc='lower right')\n",
    "plt.show()"
   ]
  },
  {
   "cell_type": "markdown",
   "id": "14d22bf6-a5d9-4505-b357-f338be97a851",
   "metadata": {},
   "source": [
    "En la grafica ROC podemos observar que cada una de las clases esta muy pegadas a los bordes, por lo que podemos confirmar que la eficiencia en el modelo es muy alta."
   ]
  },
  {
   "cell_type": "code",
   "execution_count": null,
   "id": "d3ce97ef-7055-4d1a-bfd0-dcd2f32aa113",
   "metadata": {},
   "outputs": [],
   "source": []
  }
 ],
 "metadata": {
  "kernelspec": {
   "display_name": "Python 3 (ipykernel)",
   "language": "python",
   "name": "python3"
  },
  "language_info": {
   "codemirror_mode": {
    "name": "ipython",
    "version": 3
   },
   "file_extension": ".py",
   "mimetype": "text/x-python",
   "name": "python",
   "nbconvert_exporter": "python",
   "pygments_lexer": "ipython3",
   "version": "3.12.4"
  }
 },
 "nbformat": 4,
 "nbformat_minor": 5
}
