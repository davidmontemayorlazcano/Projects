{
 "cells": [
  {
   "cell_type": "code",
   "execution_count": 1,
   "id": "e477c978-7323-4ab1-94a3-c275e27d39a6",
   "metadata": {},
   "outputs": [],
   "source": [
    "import pandas as pd\n",
    "import pylab as pl\n",
    "import numpy as np\n",
    "import scipy.optimize as opt\n",
    "from sklearn.tree import DecisionTreeClassifier\n",
    "from sklearn.model_selection import train_test_split\n",
    "from sklearn import metrics\n",
    "import matplotlib.pyplot as plt\n",
    "import warnings\n",
    "from sklearn.metrics import confusion_matrix\n",
    "from sklearn.metrics import classification_report\n",
    "from sklearn import tree\n",
    "import graphviz\n",
    "import pydotplus\n",
    "from PIL import Image\n",
    "# Adicion de colores al arbol de decision\n",
    "from six import StringIO\n",
    "from IPython.display import Image\n",
    "from sklearn.tree import export_graphviz\n",
    "warnings.filterwarnings('ignore')\n",
    "import os\n",
    "os.chdir('/Users/Lenovo/Desktop/EBAC')"
   ]
  },
  {
   "cell_type": "code",
   "execution_count": 3,
   "id": "da64eb46-b0a6-498c-a484-fc0378ce6416",
   "metadata": {},
   "outputs": [
    {
     "data": {
      "text/html": [
       "<div>\n",
       "<style scoped>\n",
       "    .dataframe tbody tr th:only-of-type {\n",
       "        vertical-align: middle;\n",
       "    }\n",
       "\n",
       "    .dataframe tbody tr th {\n",
       "        vertical-align: top;\n",
       "    }\n",
       "\n",
       "    .dataframe thead th {\n",
       "        text-align: right;\n",
       "    }\n",
       "</style>\n",
       "<table border=\"1\" class=\"dataframe\">\n",
       "  <thead>\n",
       "    <tr style=\"text-align: right;\">\n",
       "      <th></th>\n",
       "      <th>Age</th>\n",
       "      <th>Sex</th>\n",
       "      <th>BP</th>\n",
       "      <th>Cholesterol</th>\n",
       "      <th>Na_to_K</th>\n",
       "      <th>Drug</th>\n",
       "    </tr>\n",
       "  </thead>\n",
       "  <tbody>\n",
       "    <tr>\n",
       "      <th>0</th>\n",
       "      <td>23</td>\n",
       "      <td>F</td>\n",
       "      <td>HIGH</td>\n",
       "      <td>HIGH</td>\n",
       "      <td>25.355</td>\n",
       "      <td>drugY</td>\n",
       "    </tr>\n",
       "    <tr>\n",
       "      <th>1</th>\n",
       "      <td>47</td>\n",
       "      <td>M</td>\n",
       "      <td>LOW</td>\n",
       "      <td>HIGH</td>\n",
       "      <td>13.093</td>\n",
       "      <td>drugC</td>\n",
       "    </tr>\n",
       "    <tr>\n",
       "      <th>2</th>\n",
       "      <td>47</td>\n",
       "      <td>M</td>\n",
       "      <td>LOW</td>\n",
       "      <td>HIGH</td>\n",
       "      <td>10.114</td>\n",
       "      <td>drugC</td>\n",
       "    </tr>\n",
       "    <tr>\n",
       "      <th>3</th>\n",
       "      <td>28</td>\n",
       "      <td>F</td>\n",
       "      <td>NORMAL</td>\n",
       "      <td>HIGH</td>\n",
       "      <td>7.798</td>\n",
       "      <td>drugX</td>\n",
       "    </tr>\n",
       "    <tr>\n",
       "      <th>4</th>\n",
       "      <td>61</td>\n",
       "      <td>F</td>\n",
       "      <td>LOW</td>\n",
       "      <td>HIGH</td>\n",
       "      <td>18.043</td>\n",
       "      <td>drugY</td>\n",
       "    </tr>\n",
       "    <tr>\n",
       "      <th>...</th>\n",
       "      <td>...</td>\n",
       "      <td>...</td>\n",
       "      <td>...</td>\n",
       "      <td>...</td>\n",
       "      <td>...</td>\n",
       "      <td>...</td>\n",
       "    </tr>\n",
       "    <tr>\n",
       "      <th>195</th>\n",
       "      <td>56</td>\n",
       "      <td>F</td>\n",
       "      <td>LOW</td>\n",
       "      <td>HIGH</td>\n",
       "      <td>11.567</td>\n",
       "      <td>drugC</td>\n",
       "    </tr>\n",
       "    <tr>\n",
       "      <th>196</th>\n",
       "      <td>16</td>\n",
       "      <td>M</td>\n",
       "      <td>LOW</td>\n",
       "      <td>HIGH</td>\n",
       "      <td>12.006</td>\n",
       "      <td>drugC</td>\n",
       "    </tr>\n",
       "    <tr>\n",
       "      <th>197</th>\n",
       "      <td>52</td>\n",
       "      <td>M</td>\n",
       "      <td>NORMAL</td>\n",
       "      <td>HIGH</td>\n",
       "      <td>9.894</td>\n",
       "      <td>drugX</td>\n",
       "    </tr>\n",
       "    <tr>\n",
       "      <th>198</th>\n",
       "      <td>23</td>\n",
       "      <td>M</td>\n",
       "      <td>NORMAL</td>\n",
       "      <td>NORMAL</td>\n",
       "      <td>14.020</td>\n",
       "      <td>drugX</td>\n",
       "    </tr>\n",
       "    <tr>\n",
       "      <th>199</th>\n",
       "      <td>40</td>\n",
       "      <td>F</td>\n",
       "      <td>LOW</td>\n",
       "      <td>NORMAL</td>\n",
       "      <td>11.349</td>\n",
       "      <td>drugX</td>\n",
       "    </tr>\n",
       "  </tbody>\n",
       "</table>\n",
       "<p>200 rows × 6 columns</p>\n",
       "</div>"
      ],
      "text/plain": [
       "     Age Sex      BP Cholesterol  Na_to_K   Drug\n",
       "0     23   F    HIGH        HIGH   25.355  drugY\n",
       "1     47   M     LOW        HIGH   13.093  drugC\n",
       "2     47   M     LOW        HIGH   10.114  drugC\n",
       "3     28   F  NORMAL        HIGH    7.798  drugX\n",
       "4     61   F     LOW        HIGH   18.043  drugY\n",
       "..   ...  ..     ...         ...      ...    ...\n",
       "195   56   F     LOW        HIGH   11.567  drugC\n",
       "196   16   M     LOW        HIGH   12.006  drugC\n",
       "197   52   M  NORMAL        HIGH    9.894  drugX\n",
       "198   23   M  NORMAL      NORMAL   14.020  drugX\n",
       "199   40   F     LOW      NORMAL   11.349  drugX\n",
       "\n",
       "[200 rows x 6 columns]"
      ]
     },
     "execution_count": 3,
     "metadata": {},
     "output_type": "execute_result"
    }
   ],
   "source": [
    "data = pd.read_csv('drugs1.csv')\n",
    "data"
   ]
  },
  {
   "cell_type": "code",
   "execution_count": 5,
   "id": "b251550d-2c71-4807-8e7f-1fc4c502763c",
   "metadata": {},
   "outputs": [],
   "source": [
    "features_cols = ['Age', 'Sex', 'BP', 'Cholesterol', 'Na_to_K']\n",
    "X = data[features_cols].values\n",
    "y = data.Drug"
   ]
  },
  {
   "cell_type": "code",
   "execution_count": 7,
   "id": "7b16c756-c001-4dcc-899f-e742e3cb09e4",
   "metadata": {},
   "outputs": [],
   "source": [
    "from sklearn import preprocessing\n",
    "Cod_Sex = preprocessing.LabelEncoder()\n",
    "Cod_Sex.fit(['F', 'M'])\n",
    "X[:,1] = Cod_Sex.transform(X[:,1])\n",
    "\n",
    "Cod_BP = preprocessing.LabelEncoder()\n",
    "Cod_BP.fit(['HIGH', 'LOW', 'NORMAL'])\n",
    "X[:,2] = Cod_BP.transform(X[:,2])\n",
    "\n",
    "Cod_Cholesterol = preprocessing.LabelEncoder()\n",
    "Cod_Cholesterol.fit(['HIGH', 'LOW', 'NORMAL'])\n",
    "X[:,3] = Cod_Cholesterol.transform(X[:,3])"
   ]
  },
  {
   "cell_type": "code",
   "execution_count": 9,
   "id": "5fe1ef8a-5af1-4ad5-8040-58d041e1f932",
   "metadata": {},
   "outputs": [],
   "source": [
    "# Creacion de grupos de entrenamiento y prueba\n",
    "X_train, X_test, y_train, y_test = train_test_split(X, y, test_size = 0.3, random_state = 1)"
   ]
  },
  {
   "cell_type": "markdown",
   "id": "204f09de-6616-4011-a272-fee4f75ef0e4",
   "metadata": {},
   "source": [
    "# Gini, Produndidad = 5"
   ]
  },
  {
   "cell_type": "code",
   "execution_count": 28,
   "id": "1e095239-37b2-4e11-9bfb-83a93b5bb240",
   "metadata": {},
   "outputs": [],
   "source": [
    "# Crear Objeto de clasificacion del arbol de decision\n",
    "clf = DecisionTreeClassifier(criterion = 'gini', max_depth = 5)\n",
    "\n",
    "# Apliacion del algoritmo de arboles de decision a los grupos de entrenamiento\n",
    "clf = clf.fit(X_train, y_train)\n",
    "\n",
    "# Prediccion de la respuesta para el grupo de prueba\n",
    "y_pred = clf.predict(X_test)"
   ]
  },
  {
   "cell_type": "code",
   "execution_count": 30,
   "id": "65667064-f7f8-46e0-b270-7d760d94e3b2",
   "metadata": {},
   "outputs": [],
   "source": [
    "# Matrix de confusion\n",
    "from sklearn.metrics import confusion_matrix\n",
    "cm = confusion_matrix(y_test, y_pred)"
   ]
  },
  {
   "cell_type": "code",
   "execution_count": 32,
   "id": "22489bb6-19d9-46d0-a139-b1908c060949",
   "metadata": {},
   "outputs": [
    {
     "name": "stdout",
     "output_type": "stream",
     "text": [
      "              precision    recall  f1-score   support\n",
      "\n",
      "       drugA       0.67      1.00      0.80         4\n",
      "       drugB       1.00      0.67      0.80         6\n",
      "       drugC       1.00      1.00      1.00         4\n",
      "       drugX       1.00      1.00      1.00        19\n",
      "       drugY       1.00      1.00      1.00        27\n",
      "\n",
      "    accuracy                           0.97        60\n",
      "   macro avg       0.93      0.93      0.92        60\n",
      "weighted avg       0.98      0.97      0.97        60\n",
      "\n"
     ]
    }
   ],
   "source": [
    "# estadisticas de desempe;o\n",
    "from sklearn.metrics import classification_report\n",
    "print(classification_report(y_test, y_pred))"
   ]
  },
  {
   "cell_type": "code",
   "execution_count": 34,
   "id": "79a954c6-7d76-4bd4-a323-16e6c43c654f",
   "metadata": {},
   "outputs": [],
   "source": [
    "# Creacion de informacion para el arbol (reglas de decision)\n",
    "dot_data = tree.export_graphviz(clf, out_file = None, feature_names = features_cols, class_names = ['DrugA', 'DrugB', 'DrugC', 'DrugX', 'DrugY'])\n",
    "\n",
    "# Creacion de la grafica del arbol\n",
    "graph = pydotplus.graph_from_dot_data(dot_data)"
   ]
  },
  {
   "cell_type": "code",
   "execution_count": 36,
   "id": "bb77a152-57c2-4ae1-bd00-5b099fd7d126",
   "metadata": {},
   "outputs": [],
   "source": [
    "from PIL import Image\n",
    "# Creacion del rbol en formato PDF\n",
    "graph.write_pdf(\"medicinas.pdf\")\n",
    "\n",
    "# Creacion del rbol en formato PNG\n",
    "graph.write_png('medicinas.png')\n",
    "\n",
    "image = Image.open('medicinas.png')\n",
    "image.show()"
   ]
  },
  {
   "cell_type": "markdown",
   "id": "be3cf8b3-aadc-46ca-a6af-84a1e4734171",
   "metadata": {},
   "source": [
    "Para el criterio de Gini con una profundidad de 5, vemos una acertividad del 97% que es muy buena para predecir los resultados."
   ]
  },
  {
   "cell_type": "markdown",
   "id": "6637b62c-01e4-48fa-af85-02ffe16779a6",
   "metadata": {},
   "source": [
    "# Gini, Produndidad = 3"
   ]
  },
  {
   "cell_type": "code",
   "execution_count": 39,
   "id": "45712bd0-4614-4b03-af71-6bb609bc98e5",
   "metadata": {},
   "outputs": [
    {
     "name": "stdout",
     "output_type": "stream",
     "text": [
      "              precision    recall  f1-score   support\n",
      "\n",
      "       drugA       0.67      1.00      0.80         4\n",
      "       drugB       1.00      0.67      0.80         6\n",
      "       drugC       0.00      0.00      0.00         4\n",
      "       drugX       0.83      1.00      0.90        19\n",
      "       drugY       1.00      1.00      1.00        27\n",
      "\n",
      "    accuracy                           0.90        60\n",
      "   macro avg       0.70      0.73      0.70        60\n",
      "weighted avg       0.86      0.90      0.87        60\n",
      "\n"
     ]
    }
   ],
   "source": [
    "# Crear Objeto de clasificacion del arbol de decision\n",
    "clf = DecisionTreeClassifier(criterion = 'gini', max_depth = 3)\n",
    "\n",
    "# Apliacion del algoritmo de arboles de decision a los grupos de entrenamiento\n",
    "clf = clf.fit(X_train, y_train)\n",
    "\n",
    "# Prediccion de la respuesta para el grupo de prueba\n",
    "y_pred = clf.predict(X_test)\n",
    "\n",
    "cm = confusion_matrix(y_test, y_pred)\n",
    "\n",
    "print(classification_report(y_test, y_pred))"
   ]
  },
  {
   "cell_type": "code",
   "execution_count": 41,
   "id": "1eb0d10f-562e-4e9b-b5ea-9060b63c5584",
   "metadata": {},
   "outputs": [],
   "source": [
    "# Creacion de informacion para el arbol (reglas de decision)\n",
    "dot_data = tree.export_graphviz(clf, out_file = None, feature_names = features_cols, class_names = ['DrugA', 'DrugB', 'DrugC', 'DrugX', 'DrugY'])\n",
    "\n",
    "# Creacion de la grafica del arbol\n",
    "graph = pydotplus.graph_from_dot_data(dot_data)\n",
    "\n",
    "from PIL import Image\n",
    "# Creacion del rbol en formato PDF\n",
    "graph.write_pdf(\"medicinas.pdf\")\n",
    "\n",
    "# Creacion del rbol en formato PNG\n",
    "graph.write_png('medicinas.png')\n",
    "\n",
    "image = Image.open('medicinas.png')\n",
    "image.show()"
   ]
  },
  {
   "cell_type": "markdown",
   "id": "25afc994-7382-466f-99e3-340827a3e00f",
   "metadata": {},
   "source": [
    "Para el criterio de Gini con una profundidad de 3, vemos una acertividad del 90% que, aunque se pudiera decir que es alta, tiene un decremento en comparacion con la profundidad de 5, por lo que se recomienda usar mejor produndidad de 5."
   ]
  },
  {
   "cell_type": "markdown",
   "id": "240d7812-4e71-4d1f-ad8f-155a60282563",
   "metadata": {},
   "source": [
    "# Entropy, Profundidad = 5"
   ]
  },
  {
   "cell_type": "code",
   "execution_count": 44,
   "id": "771ab07a-c70d-4416-9888-3e3a826d5d9f",
   "metadata": {},
   "outputs": [
    {
     "name": "stdout",
     "output_type": "stream",
     "text": [
      "              precision    recall  f1-score   support\n",
      "\n",
      "       drugA       0.67      1.00      0.80         4\n",
      "       drugB       1.00      0.67      0.80         6\n",
      "       drugC       1.00      1.00      1.00         4\n",
      "       drugX       1.00      1.00      1.00        19\n",
      "       drugY       1.00      1.00      1.00        27\n",
      "\n",
      "    accuracy                           0.97        60\n",
      "   macro avg       0.93      0.93      0.92        60\n",
      "weighted avg       0.98      0.97      0.97        60\n",
      "\n"
     ]
    }
   ],
   "source": [
    "# Crear Objeto de clasificacion del arbol de decision\n",
    "clf = DecisionTreeClassifier(criterion = 'entropy', max_depth = 5)\n",
    "\n",
    "# Apliacion del algoritmo de arboles de decision a los grupos de entrenamiento\n",
    "clf = clf.fit(X_train, y_train)\n",
    "\n",
    "# Prediccion de la respuesta para el grupo de prueba\n",
    "y_pred = clf.predict(X_test)\n",
    "\n",
    "cm = confusion_matrix(y_test, y_pred)\n",
    "\n",
    "print(classification_report(y_test, y_pred))"
   ]
  },
  {
   "cell_type": "code",
   "execution_count": 46,
   "id": "efcc7c3f-322e-4d56-a7df-957be4b415b0",
   "metadata": {},
   "outputs": [],
   "source": [
    "# Creacion de informacion para el arbol (reglas de decision)\n",
    "dot_data = tree.export_graphviz(clf, out_file = None, feature_names = features_cols, class_names = ['DrugA', 'DrugB', 'DrugC', 'DrugX', 'DrugY'])\n",
    "\n",
    "# Creacion de la grafica del arbol\n",
    "graph = pydotplus.graph_from_dot_data(dot_data)\n",
    "\n",
    "from PIL import Image\n",
    "# Creacion del rbol en formato PDF\n",
    "graph.write_pdf(\"medicinas.pdf\")\n",
    "\n",
    "# Creacion del rbol en formato PNG\n",
    "graph.write_png('medicinas.png')\n",
    "\n",
    "image = Image.open('medicinas.png')\n",
    "image.show()"
   ]
  },
  {
   "cell_type": "markdown",
   "id": "93c84162-cc09-41ae-b25b-d68ea6c721e4",
   "metadata": {},
   "source": [
    "Para el criterio de Entropy con una profundidad de 5, vemos una acertividad del 97% que es muy buena para predecir los resultados."
   ]
  },
  {
   "cell_type": "markdown",
   "id": "da3356c1-11cc-41db-b6bd-3dfa4b83e750",
   "metadata": {},
   "source": [
    "# Entropy, Profundidad = 3"
   ]
  },
  {
   "cell_type": "code",
   "execution_count": 55,
   "id": "12cd0e16-bf8c-41ca-bd80-c99482c0051f",
   "metadata": {},
   "outputs": [
    {
     "name": "stdout",
     "output_type": "stream",
     "text": [
      "              precision    recall  f1-score   support\n",
      "\n",
      "       drugA       0.67      1.00      0.80         4\n",
      "       drugB       1.00      0.67      0.80         6\n",
      "       drugC       0.00      0.00      0.00         4\n",
      "       drugX       0.83      1.00      0.90        19\n",
      "       drugY       1.00      1.00      1.00        27\n",
      "\n",
      "    accuracy                           0.90        60\n",
      "   macro avg       0.70      0.73      0.70        60\n",
      "weighted avg       0.86      0.90      0.87        60\n",
      "\n"
     ]
    }
   ],
   "source": [
    "# Crear Objeto de clasificacion del arbol de decision\n",
    "clf = DecisionTreeClassifier(criterion = 'entropy', max_depth = 3)\n",
    "\n",
    "# Apliacion del algoritmo de arboles de decision a los grupos de entrenamiento\n",
    "clf = clf.fit(X_train, y_train)\n",
    "\n",
    "# Prediccion de la respuesta para el grupo de prueba\n",
    "y_pred = clf.predict(X_test)\n",
    "\n",
    "cm = confusion_matrix(y_test, y_pred)\n",
    "\n",
    "print(classification_report(y_test, y_pred))"
   ]
  },
  {
   "cell_type": "code",
   "execution_count": 57,
   "id": "71da886b-5b47-4b18-b117-1c9a63a9aeb1",
   "metadata": {},
   "outputs": [],
   "source": [
    "# Creacion de informacion para el arbol (reglas de decision)\n",
    "dot_data = tree.export_graphviz(clf, out_file = None, feature_names = features_cols, class_names = ['DrugA', 'DrugB', 'DrugC', 'DrugX', 'DrugY'])\n",
    "\n",
    "# Creacion de la grafica del arbol\n",
    "graph = pydotplus.graph_from_dot_data(dot_data)\n",
    "\n",
    "from PIL import Image\n",
    "# Creacion del rbol en formato PDF\n",
    "graph.write_pdf(\"medicinas.pdf\")\n",
    "\n",
    "# Creacion del rbol en formato PNG\n",
    "graph.write_png('medicinas.png')\n",
    "\n",
    "image = Image.open('medicinas.png')\n",
    "image.show()"
   ]
  },
  {
   "cell_type": "markdown",
   "id": "d3ebeeae-cf9c-4b93-979b-713e3bf4bb8e",
   "metadata": {},
   "source": [
    "Para el criterio de Entropy con una profundidad de 3, vemos una acertividad del 90% que, aunque se pudiera decir que es alta, tiene un decremento en comparacion con la profundidad de 5, por lo que se recomienda usar mejor produndidad de 5."
   ]
  },
  {
   "cell_type": "markdown",
   "id": "d66754ed-581c-43b6-b5db-44d709b69110",
   "metadata": {},
   "source": [
    "# Que medicamento recomendaria utilizar para un paciente con los siguientes datos?"
   ]
  },
  {
   "cell_type": "code",
   "execution_count": 82,
   "id": "7e0b010e-8fe7-4c11-b017-f3dfb7934544",
   "metadata": {},
   "outputs": [],
   "source": [
    "X1_test = np.array([[50,0,0,2,15.302]])"
   ]
  },
  {
   "cell_type": "code",
   "execution_count": 84,
   "id": "77982087-58d8-45db-b39a-e07f6135339a",
   "metadata": {},
   "outputs": [],
   "source": [
    "# Crear Objeto de clasificacion del arbol de decision\n",
    "clf = DecisionTreeClassifier(criterion = 'gini', max_depth = 5)\n",
    "\n",
    "# Apliacion del algoritmo de arboles de decision a los grupos de entrenamiento\n",
    "clf = clf.fit(X_train, y_train)\n",
    "\n",
    "# Prediccion de la respuesta para el grupo de prueba\n",
    "y_pred = clf.predict(X1_test)"
   ]
  },
  {
   "cell_type": "code",
   "execution_count": 92,
   "id": "180c2614-d364-44c6-aac5-b4319c90b08d",
   "metadata": {},
   "outputs": [
    {
     "data": {
      "text/plain": [
       "array(['drugY'], dtype=object)"
      ]
     },
     "execution_count": 92,
     "metadata": {},
     "output_type": "execute_result"
    }
   ],
   "source": [
    "y_pred"
   ]
  },
  {
   "cell_type": "markdown",
   "id": "ca2e9bea-2a4c-48c9-8912-af9feb438c63",
   "metadata": {},
   "source": [
    "# Para los parametros anteriormente mencionados, necesitaria utilizar el medicamento \"DrugY\""
   ]
  },
  {
   "cell_type": "code",
   "execution_count": null,
   "id": "421ee193-4716-4875-b352-547d6889663e",
   "metadata": {},
   "outputs": [],
   "source": []
  }
 ],
 "metadata": {
  "kernelspec": {
   "display_name": "Python 3 (ipykernel)",
   "language": "python",
   "name": "python3"
  },
  "language_info": {
   "codemirror_mode": {
    "name": "ipython",
    "version": 3
   },
   "file_extension": ".py",
   "mimetype": "text/x-python",
   "name": "python",
   "nbconvert_exporter": "python",
   "pygments_lexer": "ipython3",
   "version": "3.12.4"
  }
 },
 "nbformat": 4,
 "nbformat_minor": 5
}
