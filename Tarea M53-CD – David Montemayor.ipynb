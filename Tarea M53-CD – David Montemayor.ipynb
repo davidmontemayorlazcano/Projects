{
 "cells": [
  {
   "cell_type": "code",
   "execution_count": 3,
   "id": "680c0036-5495-44a3-8d2c-b1a157f48980",
   "metadata": {},
   "outputs": [
    {
     "name": "stdout",
     "output_type": "stream",
     "text": [
      "Coeficientes beta:\n",
      "[[4.62512408e+00]\n",
      " [5.44457803e-02]\n",
      " [1.07001228e-01]\n",
      " [3.35657922e-04]]\n",
      "R²: 0.9025912899684556\n",
      "Predicción puntual: 15.44325957906403\n",
      "Intervalo de confianza 90%: ( 14.954628615233734 , 15.931890542894326 )\n",
      "Asimetría: -0.4310967996702898\n",
      "Curtosis: 4.604756333677674\n",
      "Estadístico Jarque-Bera: 27.65517244352062\n",
      "Durbin-Watson: 2.250551836079356\n",
      "Estadístico White: 19.95314047160226\n",
      "Valor p White: 0.018203803931681445\n"
     ]
    }
   ],
   "source": [
    "import numpy as np\n",
    "import pandas as pd\n",
    "import scipy.stats\n",
    "import warnings\n",
    "warnings.filterwarnings(\"ignore\")\n",
    "\n",
    "import os\n",
    "os.chdir(\"/Users/Lenovo/Desktop/EBAC\")\n",
    "\n",
    "data = pd.read_csv(\"Advertising.csv\")\n",
    "Y = np.array(data[\"Sales\"]).reshape(-1, 1)\n",
    "X = np.array(data[[\"TV\", \"Radio\", \"Newspaper\"]])\n",
    "\n",
    "# intercepto\n",
    "X = np.hstack([np.ones((X.shape[0], 1)), X])\n",
    "\n",
    "# Estimación de betas (MCO)\n",
    "XT_X = np.matmul(X.T, X)\n",
    "XT_X_inv = np.linalg.inv(XT_X)\n",
    "XT_Y = np.matmul(X.T, Y)\n",
    "betas = np.matmul(XT_X_inv, XT_Y)\n",
    "\n",
    "# Predicciones y residuos\n",
    "Y_pred = np.matmul(X, betas)\n",
    "Resid = Y - Y_pred\n",
    "\n",
    "RSS = np.matmul(Resid.T, Resid)\n",
    "TSS = np.matmul(Y.T, Y) - len(Y)*(Y.mean()**2)\n",
    "R2 = float(1 - RSS/TSS)\n",
    "\n",
    "n, k = X.shape\n",
    "s_cuad = RSS / (n - k)\n",
    "s = float(np.sqrt(s_cuad))\n",
    "\n",
    "print(\"Coeficientes beta:\")\n",
    "print(betas)\n",
    "print(\"R²:\", R2)\n",
    "\n",
    "# Intervalo de confianza 90% \n",
    "# para TV=100, Radio=50, Newspaper=70\n",
    "\n",
    "f = np.array([[1, 100, 50, 70]])\n",
    "Pron_puntual = float(np.matmul(f, betas))\n",
    "\n",
    "gl = n - k\n",
    "Confianza = 0.90\n",
    "q = (1 - Confianza) / 2\n",
    "t_critico = abs(scipy.stats.t.ppf(q, df=gl))\n",
    "\n",
    "Margen_error = t_critico * (s * (float(np.matmul(np.matmul(f, XT_X_inv), f.T))**0.5))\n",
    "Lim_inferior = Pron_puntual - Margen_error\n",
    "Lim_superior = Pron_puntual + Margen_error\n",
    "\n",
    "print(\"Predicción puntual:\", Pron_puntual)\n",
    "print(\"Intervalo de confianza 90%: (\", Lim_inferior, \",\", Lim_superior, \")\")\n",
    "\n",
    "\n",
    "# Validación de supuestos\n",
    "# Normalidad de residuos (Jarque-Bera)\n",
    "skew = float(scipy.stats.skew(Resid, bias=True))\n",
    "kurtosis = float(scipy.stats.kurtosis(Resid, fisher=False))\n",
    "Jarque_bera = (n/6) * (skew**2 + (kurtosis-3)**2 / 4)\n",
    "\n",
    "print(\"Asimetría:\", skew)\n",
    "print(\"Curtosis:\", kurtosis)\n",
    "print(\"Estadístico Jarque-Bera:\", Jarque_bera)\n",
    "\n",
    "# Autocorrelación (Durbin-Watson)\n",
    "from statsmodels.formula.api import ols\n",
    "from statsmodels.stats.stattools import durbin_watson\n",
    "\n",
    "df = pd.DataFrame(data={\"Y\": Y.flatten(), \"TV\": data[\"TV\"], \"Radio\": data[\"Radio\"], \"Newspaper\": data[\"Newspaper\"]})\n",
    "model = ols(\"Y ~ TV + Radio + Newspaper\", data=df).fit()\n",
    "\n",
    "dw = durbin_watson(model.resid)\n",
    "print(\"Durbin-Watson:\", dw)\n",
    "\n",
    "# Heterocedasticidad (Prueba de White)\n",
    "from statsmodels.stats.diagnostic import het_white\n",
    "white_test = het_white(model.resid, model.model.exog)\n",
    "\n",
    "print(\"Estadístico White:\", white_test[0])\n",
    "print(\"Valor p White:\", white_test[1])"
   ]
  },
  {
   "cell_type": "markdown",
   "id": "a21dc3b0-a61b-47d4-84a0-1c187a7f6ab0",
   "metadata": {},
   "source": [
    "Jarque - Bera: Dado que el estadístico de Jarque-Bera es mayor al valor crítico, rechazamos la hipótesis nula y concluimos que los residuales no siguen una distribución normal.\n",
    "\n",
    "Durbin-Watson: Dado que DW = 2.25, que es mayor que 2, se evidencia una ligera autocorrelación negativa entre los residuales.\n",
    "\n",
    "Estadistico de White: Dado que el valor p de la prueba de White es menor que 0.05, rechazamos la hipótesis nula y concluimos que existe heterocedasticidad en los residuales (varianzas desiguales).\n",
    "\n",
    "Multicolinealidad: Todas las variables independientes tienen VIF cercanos a 1, lo que indica que no existe multicolinealidad significativa en el modelo."
   ]
  },
  {
   "cell_type": "code",
   "execution_count": 9,
   "id": "70071a6a-a298-44ec-8fe7-b786b31f3a1e",
   "metadata": {},
   "outputs": [],
   "source": [
    "from sklearn.model_selection import train_test_split\n",
    "\n",
    "# Variables explicativas\n",
    "X = data[[\"TV\", \"Radio\", \"Newspaper\"]]\n",
    "y = data[\"Sales\"]\n",
    "\n",
    "# División 70% entrenamiento, 30% prueba (semilla = 1)\n",
    "X_train, X_test, y_train, y_test = train_test_split(\n",
    "    X, y, test_size=0.3, random_state=1\n",
    ")"
   ]
  },
  {
   "cell_type": "code",
   "execution_count": 11,
   "id": "5fcaef45-058e-47f0-a323-55ad4aa37922",
   "metadata": {},
   "outputs": [
    {
     "name": "stdout",
     "output_type": "stream",
     "text": [
      "                            OLS Regression Results                            \n",
      "==============================================================================\n",
      "Dep. Variable:                  Sales   R-squared:                       0.899\n",
      "Model:                            OLS   Adj. R-squared:                  0.897\n",
      "Method:                 Least Squares   F-statistic:                     405.2\n",
      "Date:                Tue, 09 Sep 2025   Prob (F-statistic):           1.36e-67\n",
      "Time:                        18:13:17   Log-Likelihood:                -272.35\n",
      "No. Observations:                 140   AIC:                             552.7\n",
      "Df Residuals:                     136   BIC:                             564.5\n",
      "Df Model:                           3                                         \n",
      "Covariance Type:            nonrobust                                         \n",
      "==============================================================================\n",
      "                 coef    std err          t      P>|t|      [0.025      0.975]\n",
      "------------------------------------------------------------------------------\n",
      "const          4.6614      0.368     12.650      0.000       3.933       5.390\n",
      "TV             0.0550      0.002     32.747      0.000       0.052       0.058\n",
      "Radio          0.1025      0.010      9.801      0.000       0.082       0.123\n",
      "Newspaper     -0.0015      0.007     -0.203      0.839      -0.016       0.013\n",
      "==============================================================================\n",
      "Omnibus:                       15.370   Durbin-Watson:                   2.041\n",
      "Prob(Omnibus):                  0.000   Jarque-Bera (JB):               25.876\n",
      "Skew:                          -0.526   Prob(JB):                     2.41e-06\n",
      "Kurtosis:                       4.824   Cond. No.                         432.\n",
      "==============================================================================\n",
      "\n",
      "Notes:\n",
      "[1] Standard Errors assume that the covariance matrix of the errors is correctly specified.\n"
     ]
    }
   ],
   "source": [
    "import statsmodels.api as sm\n",
    "\n",
    "# intercepto\n",
    "X_train_const = sm.add_constant(X_train)\n",
    "\n",
    "# Ajuste del modelo\n",
    "model = sm.OLS(y_train, X_train_const).fit()\n",
    "print(model.summary())"
   ]
  },
  {
   "cell_type": "code",
   "execution_count": 13,
   "id": "f842de58-5691-44a7-886d-db98611e8933",
   "metadata": {},
   "outputs": [
    {
     "name": "stdout",
     "output_type": "stream",
     "text": [
      "                            OLS Regression Results                            \n",
      "==============================================================================\n",
      "Dep. Variable:                  Sales   R-squared:                       0.899\n",
      "Model:                            OLS   Adj. R-squared:                  0.898\n",
      "Method:                 Least Squares   F-statistic:                     612.0\n",
      "Date:                Tue, 09 Sep 2025   Prob (F-statistic):           4.95e-69\n",
      "Time:                        18:13:32   Log-Likelihood:                -272.37\n",
      "No. Observations:                 140   AIC:                             550.7\n",
      "Df Residuals:                     137   BIC:                             559.6\n",
      "Df Model:                           2                                         \n",
      "Covariance Type:            nonrobust                                         \n",
      "==============================================================================\n",
      "                 coef    std err          t      P>|t|      [0.025      0.975]\n",
      "------------------------------------------------------------------------------\n",
      "const          4.6390      0.350     13.240      0.000       3.946       5.332\n",
      "TV             0.0550      0.002     32.903      0.000       0.052       0.058\n",
      "Radio          0.1016      0.010     10.677      0.000       0.083       0.120\n",
      "==============================================================================\n",
      "Omnibus:                       14.841   Durbin-Watson:                   2.038\n",
      "Prob(Omnibus):                  0.001   Jarque-Bera (JB):               24.663\n",
      "Skew:                          -0.512   Prob(JB):                     4.41e-06\n",
      "Kurtosis:                       4.783   Cond. No.                         407.\n",
      "==============================================================================\n",
      "\n",
      "Notes:\n",
      "[1] Standard Errors assume that the covariance matrix of the errors is correctly specified.\n"
     ]
    }
   ],
   "source": [
    "X_train_sig = X_train[[\"TV\", \"Radio\"]]\n",
    "X_train_sig = sm.add_constant(X_train_sig)\n",
    "\n",
    "model_sig = sm.OLS(y_train, X_train_sig).fit()\n",
    "print(model_sig.summary())"
   ]
  },
  {
   "cell_type": "code",
   "execution_count": 15,
   "id": "4fe15f76-6fb5-47d5-8760-51a2d75c1e64",
   "metadata": {},
   "outputs": [
    {
     "name": "stdout",
     "output_type": "stream",
     "text": [
      "R² en conjunto de prueba: 0.9073562242286408\n"
     ]
    }
   ],
   "source": [
    "from sklearn.metrics import r2_score\n",
    "\n",
    "# Preparar X_test con solo las variables significativas\n",
    "X_test_sig = sm.add_constant(X_test[[\"TV\", \"Radio\"]])\n",
    "\n",
    "# Predicciones\n",
    "y_pred = model_sig.predict(X_test_sig)\n",
    "\n",
    "# R² en prueba\n",
    "r2_test = r2_score(y_test, y_pred)\n",
    "print(\"R² en conjunto de prueba:\", r2_test)"
   ]
  },
  {
   "cell_type": "code",
   "execution_count": 19,
   "id": "b90f58a5-2c07-422e-97ee-54f0fa0b32f7",
   "metadata": {},
   "outputs": [
    {
     "name": "stdout",
     "output_type": "stream",
     "text": [
      "Sesgo (skew) librería: -0.4310967996702909\n",
      "Curtosis librería: 4.604756333677675\n",
      "Durbin-Watson librería: 2.250551836079356\n",
      "White test estadístico: 19.95314047160226\n",
      "White test valor p: 0.018203803931681445\n"
     ]
    }
   ],
   "source": [
    "import scipy.stats\n",
    "from statsmodels.formula.api import ols\n",
    "from statsmodels.stats.stattools import durbin_watson\n",
    "from statsmodels.stats.diagnostic import het_white\n",
    "import pandas as pd\n",
    "\n",
    "data = pd.read_csv(\"Advertising.csv\")\n",
    "df = pd.DataFrame({\n",
    "    \"Y\": data[\"Sales\"],\n",
    "    \"TV\": data[\"TV\"],\n",
    "    \"Radio\": data[\"Radio\"],\n",
    "    \"Newspaper\": data[\"Newspaper\"]\n",
    "})\n",
    "\n",
    "# Ajustar modelo de regresión\n",
    "model = ols(\"Y ~ TV + Radio + Newspaper\", data=df).fit()\n",
    "resid = model.resid\n",
    "\n",
    "# Sesgo\n",
    "skew_lib = float(scipy.stats.skew(resid, bias=True))\n",
    "\n",
    "# Curtosis\n",
    "kurtosis_lib = float(scipy.stats.kurtosis(resid, fisher=False))\n",
    "\n",
    "# Durbin-Watson\n",
    "dw_lib = durbin_watson(resid)\n",
    "\n",
    "# Heterocedasticidad (White)\n",
    "white_test = het_white(resid, model.model.exog)\n",
    "white_stat_lib = white_test[0]\n",
    "white_pvalue_lib = white_test[1]\n",
    "\n",
    "print(\"Sesgo (skew) librería:\", skew_lib)\n",
    "print(\"Curtosis librería:\", kurtosis_lib)\n",
    "print(\"Durbin-Watson librería:\", dw_lib)\n",
    "print(\"White test estadístico:\", white_stat_lib)\n",
    "print(\"White test valor p:\", white_pvalue_lib)"
   ]
  },
  {
   "cell_type": "markdown",
   "id": "f40e7668-0002-4edb-b608-adcc31b81669",
   "metadata": {},
   "source": [
    "# Conclusion\n",
    "Despues de hacer la comparativa de los calculos de matrices manuales VS las librerias, podemos concluir que los calculos manuales fueron exitosos, ya que llegamos a los mismos valores."
   ]
  },
  {
   "cell_type": "code",
   "execution_count": 22,
   "id": "91709911-d6a3-4ee0-ad70-3db9518771c0",
   "metadata": {},
   "outputs": [
    {
     "name": "stdout",
     "output_type": "stream",
     "text": [
      "    Variable       VIF\n",
      "0      const  6.848900\n",
      "1         TV  1.004611\n",
      "2      Radio  1.144952\n",
      "3  Newspaper  1.145187\n"
     ]
    }
   ],
   "source": [
    "from statsmodels.stats.outliers_influence import variance_inflation_factor\n",
    "import pandas as pd\n",
    "\n",
    "X = data[[\"TV\", \"Radio\", \"Newspaper\"]]\n",
    "X = sm.add_constant(X)\n",
    "\n",
    "vif_data = pd.DataFrame()\n",
    "vif_data[\"Variable\"] = X.columns\n",
    "vif_data[\"VIF\"] = [variance_inflation_factor(X.values, i) for i in range(X.shape[1])]\n",
    "\n",
    "print(vif_data)"
   ]
  },
  {
   "cell_type": "code",
   "execution_count": null,
   "id": "cfb464ad-69df-40f7-9e50-7c94f9f5753b",
   "metadata": {},
   "outputs": [],
   "source": []
  }
 ],
 "metadata": {
  "kernelspec": {
   "display_name": "Python 3 (ipykernel)",
   "language": "python",
   "name": "python3"
  },
  "language_info": {
   "codemirror_mode": {
    "name": "ipython",
    "version": 3
   },
   "file_extension": ".py",
   "mimetype": "text/x-python",
   "name": "python",
   "nbconvert_exporter": "python",
   "pygments_lexer": "ipython3",
   "version": "3.12.4"
  }
 },
 "nbformat": 4,
 "nbformat_minor": 5
}
