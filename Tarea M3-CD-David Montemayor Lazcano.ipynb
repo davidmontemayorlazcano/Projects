{
 "cells": [
  {
   "cell_type": "code",
   "execution_count": 16,
   "id": "767eb05e",
   "metadata": {},
   "outputs": [
    {
     "name": "stdout",
     "output_type": "stream",
     "text": [
      "Numero de horas Trabajadas: 65\n",
      "Tarifa por Hora: 15\n",
      "1035.0\n"
     ]
    }
   ],
   "source": [
    "numero_horas_trabajadas = int(input(\"Numero de horas Trabajadas: \"))\n",
    "tarifa_por_hora = int(input(\"Tarifa por Hora: \"))\n",
    "\n",
    "if numero_horas_trabajadas <= 40:\n",
    "    monto_a_pagar = numero_horas_trabajadas*tarifa_por_hora\n",
    "    print(monto_a_pagar)\n",
    "elif numero_horas_trabajadas > 40 and numero_horas_trabajadas <= 50:\n",
    "    monto_a_pagar2 = 40*tarifa_por_hora + (numero_horas_trabajadas-40)*tarifa_por_hora*1.1\n",
    "    print(monto_a_pagar2)\n",
    "elif numero_horas_trabajadas > 50:\n",
    "    monto_a_pagar3 = 40*tarifa_por_hora + (10)*tarifa_por_hora*1.1 + (numero_horas_trabajadas-50)*tarifa_por_hora*1.2\n",
    "    print(monto_a_pagar3)\n",
    "else:\n",
    "    print(\"Parametros Incorrectos\")"
   ]
  },
  {
   "cell_type": "code",
   "execution_count": null,
   "id": "e26be6a1",
   "metadata": {},
   "outputs": [],
   "source": []
  }
 ],
 "metadata": {
  "kernelspec": {
   "display_name": "Python 3 (ipykernel)",
   "language": "python",
   "name": "python3"
  },
  "language_info": {
   "codemirror_mode": {
    "name": "ipython",
    "version": 3
   },
   "file_extension": ".py",
   "mimetype": "text/x-python",
   "name": "python",
   "nbconvert_exporter": "python",
   "pygments_lexer": "ipython3",
   "version": "3.9.13"
  }
 },
 "nbformat": 4,
 "nbformat_minor": 5
}
