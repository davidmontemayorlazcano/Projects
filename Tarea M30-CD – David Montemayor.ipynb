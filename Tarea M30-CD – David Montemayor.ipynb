{
 "cells": [
  {
   "cell_type": "code",
   "execution_count": 3,
   "id": "1b5896d6-2fa1-4d55-aa31-89fa38792213",
   "metadata": {},
   "outputs": [],
   "source": [
    "import numpy as np\n",
    "import pandas as pd\n",
    "import matplotlib.pyplot as plt\n",
    "from sklearn.neighbors import NearestNeighbors\n",
    "import os\n",
    "os.chdir('/Users/Lenovo/Desktop/EBAC')\n",
    "import warnings\n",
    "warnings.filterwarnings('ignore')"
   ]
  },
  {
   "cell_type": "code",
   "execution_count": 13,
   "id": "53fb2f17-6e90-4ef4-801c-633f92103e72",
   "metadata": {},
   "outputs": [
    {
     "data": {
      "text/html": [
       "<div>\n",
       "<style scoped>\n",
       "    .dataframe tbody tr th:only-of-type {\n",
       "        vertical-align: middle;\n",
       "    }\n",
       "\n",
       "    .dataframe tbody tr th {\n",
       "        vertical-align: top;\n",
       "    }\n",
       "\n",
       "    .dataframe thead th {\n",
       "        text-align: right;\n",
       "    }\n",
       "</style>\n",
       "<table border=\"1\" class=\"dataframe\">\n",
       "  <thead>\n",
       "    <tr style=\"text-align: right;\">\n",
       "      <th></th>\n",
       "      <th>Alcohol</th>\n",
       "      <th>Malic_Acid</th>\n",
       "      <th>Ash</th>\n",
       "      <th>Ash_Alcanity</th>\n",
       "      <th>Magnesium</th>\n",
       "      <th>Total_Phenols</th>\n",
       "      <th>Flavanoids</th>\n",
       "      <th>Nonflavanoid_Phenols</th>\n",
       "      <th>Proanthocyanins</th>\n",
       "      <th>Color_Intensity</th>\n",
       "      <th>Hue</th>\n",
       "      <th>OD280</th>\n",
       "      <th>Proline</th>\n",
       "    </tr>\n",
       "  </thead>\n",
       "  <tbody>\n",
       "    <tr>\n",
       "      <th>0</th>\n",
       "      <td>14.23</td>\n",
       "      <td>1.71</td>\n",
       "      <td>2.43</td>\n",
       "      <td>15.6</td>\n",
       "      <td>127</td>\n",
       "      <td>2.80</td>\n",
       "      <td>3.06</td>\n",
       "      <td>0.28</td>\n",
       "      <td>2.29</td>\n",
       "      <td>5.64</td>\n",
       "      <td>1.04</td>\n",
       "      <td>3.92</td>\n",
       "      <td>1065</td>\n",
       "    </tr>\n",
       "    <tr>\n",
       "      <th>1</th>\n",
       "      <td>13.20</td>\n",
       "      <td>1.78</td>\n",
       "      <td>2.14</td>\n",
       "      <td>11.2</td>\n",
       "      <td>100</td>\n",
       "      <td>2.65</td>\n",
       "      <td>2.76</td>\n",
       "      <td>0.26</td>\n",
       "      <td>1.28</td>\n",
       "      <td>4.38</td>\n",
       "      <td>1.05</td>\n",
       "      <td>3.40</td>\n",
       "      <td>1050</td>\n",
       "    </tr>\n",
       "    <tr>\n",
       "      <th>2</th>\n",
       "      <td>13.16</td>\n",
       "      <td>2.36</td>\n",
       "      <td>2.67</td>\n",
       "      <td>18.6</td>\n",
       "      <td>101</td>\n",
       "      <td>2.80</td>\n",
       "      <td>3.24</td>\n",
       "      <td>0.30</td>\n",
       "      <td>2.81</td>\n",
       "      <td>5.68</td>\n",
       "      <td>1.03</td>\n",
       "      <td>3.17</td>\n",
       "      <td>1185</td>\n",
       "    </tr>\n",
       "    <tr>\n",
       "      <th>3</th>\n",
       "      <td>14.37</td>\n",
       "      <td>1.95</td>\n",
       "      <td>2.50</td>\n",
       "      <td>16.8</td>\n",
       "      <td>113</td>\n",
       "      <td>3.85</td>\n",
       "      <td>3.49</td>\n",
       "      <td>0.24</td>\n",
       "      <td>2.18</td>\n",
       "      <td>7.80</td>\n",
       "      <td>0.86</td>\n",
       "      <td>3.45</td>\n",
       "      <td>1480</td>\n",
       "    </tr>\n",
       "    <tr>\n",
       "      <th>4</th>\n",
       "      <td>13.24</td>\n",
       "      <td>2.59</td>\n",
       "      <td>2.87</td>\n",
       "      <td>21.0</td>\n",
       "      <td>118</td>\n",
       "      <td>2.80</td>\n",
       "      <td>2.69</td>\n",
       "      <td>0.39</td>\n",
       "      <td>1.82</td>\n",
       "      <td>4.32</td>\n",
       "      <td>1.04</td>\n",
       "      <td>2.93</td>\n",
       "      <td>735</td>\n",
       "    </tr>\n",
       "  </tbody>\n",
       "</table>\n",
       "</div>"
      ],
      "text/plain": [
       "   Alcohol  Malic_Acid   Ash  Ash_Alcanity  Magnesium  Total_Phenols  \\\n",
       "0    14.23        1.71  2.43          15.6        127           2.80   \n",
       "1    13.20        1.78  2.14          11.2        100           2.65   \n",
       "2    13.16        2.36  2.67          18.6        101           2.80   \n",
       "3    14.37        1.95  2.50          16.8        113           3.85   \n",
       "4    13.24        2.59  2.87          21.0        118           2.80   \n",
       "\n",
       "   Flavanoids  Nonflavanoid_Phenols  Proanthocyanins  Color_Intensity   Hue  \\\n",
       "0        3.06                  0.28             2.29             5.64  1.04   \n",
       "1        2.76                  0.26             1.28             4.38  1.05   \n",
       "2        3.24                  0.30             2.81             5.68  1.03   \n",
       "3        3.49                  0.24             2.18             7.80  0.86   \n",
       "4        2.69                  0.39             1.82             4.32  1.04   \n",
       "\n",
       "   OD280  Proline  \n",
       "0   3.92     1065  \n",
       "1   3.40     1050  \n",
       "2   3.17     1185  \n",
       "3   3.45     1480  \n",
       "4   2.93      735  "
      ]
     },
     "execution_count": 13,
     "metadata": {},
     "output_type": "execute_result"
    }
   ],
   "source": [
    "datos = pd.read_csv('wine-clustering.csv')\n",
    "datos.head()"
   ]
  },
  {
   "cell_type": "code",
   "execution_count": 15,
   "id": "b63a0ebf-f838-4ef8-aa94-d3b24d7898e3",
   "metadata": {},
   "outputs": [
    {
     "data": {
      "text/plain": [
       "array([[1.423e+01, 1.710e+00, 2.430e+00, ..., 1.040e+00, 3.920e+00,\n",
       "        1.065e+03],\n",
       "       [1.320e+01, 1.780e+00, 2.140e+00, ..., 1.050e+00, 3.400e+00,\n",
       "        1.050e+03],\n",
       "       [1.316e+01, 2.360e+00, 2.670e+00, ..., 1.030e+00, 3.170e+00,\n",
       "        1.185e+03],\n",
       "       ...,\n",
       "       [1.327e+01, 4.280e+00, 2.260e+00, ..., 5.900e-01, 1.560e+00,\n",
       "        8.350e+02],\n",
       "       [1.317e+01, 2.590e+00, 2.370e+00, ..., 6.000e-01, 1.620e+00,\n",
       "        8.400e+02],\n",
       "       [1.413e+01, 4.100e+00, 2.740e+00, ..., 6.100e-01, 1.600e+00,\n",
       "        5.600e+02]])"
      ]
     },
     "execution_count": 15,
     "metadata": {},
     "output_type": "execute_result"
    }
   ],
   "source": [
    "# Convertirmos a array para poder trabajarlo\n",
    "wine_array = datos.values\n",
    "wine_array"
   ]
  },
  {
   "cell_type": "code",
   "execution_count": 25,
   "id": "30a6c712-6e8d-4c49-a7ec-fb138c54fc49",
   "metadata": {},
   "outputs": [
    {
     "data": {
      "text/plain": [
       "<matplotlib.collections.PathCollection at 0x1ff0ebe1ee0>"
      ]
     },
     "execution_count": 25,
     "metadata": {},
     "output_type": "execute_result"
    },
    {
     "data": {
      "image/png": "[encoded data removed]",
      "text/plain": [
       "<Figure size 640x480 with 1 Axes>"
      ]
     },
     "metadata": {},
     "output_type": "display_data"
    }
   ],
   "source": [
    "# Visualizacion de los puntos de la poblacion\n",
    "plt.figure()\n",
    "plt.title('Datos de entrada')\n",
    "plt.scatter(wine_array[:,0], wine_array[:,1], marker = 'o', s = 100, color = 'black')"
   ]
  },
  {
   "cell_type": "code",
   "execution_count": 21,
   "id": "95be3041-093a-4f0a-b0ed-d922b89c785f",
   "metadata": {},
   "outputs": [
    {
     "data": {
      "text/plain": [
       "array([[1.40e+01, 2.00e+00, 2.50e+00, 1.60e+01, 1.15e+02, 3.00e+00,\n",
       "        2.50e+00, 4.00e-01, 2.00e+00, 9.00e+00, 1.00e+00, 3.50e+00,\n",
       "        8.00e+02]])"
      ]
     },
     "execution_count": 21,
     "metadata": {},
     "output_type": "execute_result"
    }
   ],
   "source": [
    "# Definir el numero de vecinos\n",
    "k = 5\n",
    "# Definir punto a relacionar\n",
    "test_data = pd.DataFrame({\n",
    "    'Alcohol': [14],'Malic_Acid': [2],'Ash': [2.5],'Ash_Alcanity': [16],'Magnesium': [115],\n",
    "    'Total_Phenols': [3],'Flavanoids': [2.5],'Nonflavanoid_Phenols': [0.4],\n",
    "    'Proanthocyanins': [2],'Color_Intensity': [9],'Hue': [1],'OD280': [3.5],'Proline': [800]\n",
    "})\n",
    "test = test_data.values\n",
    "test"
   ]
  },
  {
   "cell_type": "code",
   "execution_count": 27,
   "id": "39c2c888-9f1d-4ec6-9fd7-6867beb8c52b",
   "metadata": {},
   "outputs": [],
   "source": [
    "#Ejecucion del algoritmo KNN\n",
    "knn_model = NearestNeighbors(n_neighbors = k, algorithm = 'auto').fit(wine_array)\n",
    "distances, indices = knn_model.kneighbors(test)"
   ]
  },
  {
   "cell_type": "code",
   "execution_count": 43,
   "id": "5fa4ea7c-bcf2-4b4f-94b4-e04d125c2492",
   "metadata": {},
   "outputs": [
    {
     "name": "stdout",
     "output_type": "stream",
     "text": [
      "     Alcohol  Malic_Acid   Ash  Ash_Alcanity  Magnesium  Total_Phenols  \\\n",
      "40     13.56        1.71  2.31          16.2        117           3.15   \n",
      "20     14.06        1.63  2.28          16.0        126           3.00   \n",
      "25     13.05        2.05  3.22          25.0        124           2.63   \n",
      "21     12.93        3.80  2.65          18.6        102           2.41   \n",
      "141    13.36        2.56  2.35          20.0         89           1.40   \n",
      "\n",
      "     Flavanoids  Nonflavanoid_Phenols  Proanthocyanins  Color_Intensity   Hue  \\\n",
      "40         3.29                  0.34             2.34             6.13  0.95   \n",
      "20         3.17                  0.24             2.10             5.65  1.09   \n",
      "25         2.68                  0.47             1.92             3.58  1.13   \n",
      "21         2.41                  0.25             1.98             4.50  1.03   \n",
      "141        0.50                  0.37             0.64             5.60  0.70   \n",
      "\n",
      "     OD280  Proline  \n",
      "40    3.38      795  \n",
      "20    3.71      780  \n",
      "25    3.20      830  \n",
      "21    3.52      770  \n",
      "141   2.47      780  \n"
     ]
    }
   ],
   "source": [
    "vinos_parecidos = datos.iloc[indices[0]]\n",
    "print(vinos_parecidos)"
   ]
  },
  {
   "cell_type": "code",
   "execution_count": 47,
   "id": "0c2f171f-bba5-4465-930a-e0a571f90950",
   "metadata": {},
   "outputs": [
    {
     "data": {
      "image/png": "[encoded data removed]",
      "text/plain": [
       "<Figure size 640x480 with 1 Axes>"
      ]
     },
     "metadata": {},
     "output_type": "display_data"
    }
   ],
   "source": [
    "# Visualizacion de puntos asociados al punto de interes\n",
    "plt.figure()\n",
    "plt.title('Vecinos mas cercanos')\n",
    "plt.scatter(wine_array[:,0], wine_array[:,1], marker = 'o', s = 100, color = 'black')\n",
    "plt.scatter(wine_array[indices][0][:][:,0], wine_array[indices][0][:][:,1], marker = 'o', s = 250, color = 'black', facecolors = 'none')\n",
    "plt.scatter(test[0, 0], test[0, 1], marker = 'x', s = 100, color = 'black')\n",
    "plt.show()"
   ]
  },
  {
   "cell_type": "markdown",
   "id": "bb5e81b3-9da6-4784-85fb-608f17c862b6",
   "metadata": {},
   "source": [
    "# Conlcusion\n",
    "En este caso pudimos encontrar 5 Vinos que son bastante parecidos al que tenemos como muestra, y las concentraciones de alcohol son las siguientes: Vino #40: 13.56, Vino #20: 14.06, Vino #25: 13.05, Vino #21: 12.93, Vino #141: 13.36."
   ]
  },
  {
   "cell_type": "markdown",
   "id": "621530f2-64a3-40e9-a024-00f9b1d96e49",
   "metadata": {},
   "source": [
    "# Problema # 2"
   ]
  },
  {
   "cell_type": "code",
   "execution_count": 26,
   "id": "580573df-e55d-4ab6-b276-f5d6615021d3",
   "metadata": {},
   "outputs": [],
   "source": [
    "from mlxtend.frequent_patterns import apriori, association_rules\n",
    "\n",
    "my_basket = [['bread', 'butter', 'wine', 'bananas', 'coffee', 'carrots'],\n",
    "    ['tomatoes', 'onions', 'cheese', 'milk', 'potatoes'],\n",
    "    ['beer', 'chips', 'asparagus', 'salsa', 'milk', 'apples'],\n",
    "    ['olive oil', 'bread', 'butter', 'tomatoes', 'steak', 'carrots'],\n",
    "    ['tomatoes', 'onions', 'chips', 'wine', 'ketchup', 'orange juice'],\n",
    "    ['bread', 'butter', 'beer', 'chips', 'milk'],\n",
    "    ['butter', 'tomatoes', 'carrots', 'coffee', 'sugar'],\n",
    "    ['tomatoes', 'onions', 'cheese', 'milk', 'potatoes'],\n",
    "    ['bread', 'butter', 'ketchup', 'coffee', 'chicken wings'],\n",
    "    ['butter', 'beer', 'chips', 'asparagus', 'apples'],\n",
    "    ['tomatoes', 'onions', 'beer', 'chips', 'milk', 'coffee']]"
   ]
  },
  {
   "cell_type": "code",
   "execution_count": 28,
   "id": "e00b29c7-aade-418b-a7f4-1c1ec174b418",
   "metadata": {},
   "outputs": [],
   "source": [
    "# Obtener artículos únicos\n",
    "articulos = sorted(set(item for basket in my_basket for item in basket))"
   ]
  },
  {
   "cell_type": "code",
   "execution_count": 30,
   "id": "70bd65a2-54bc-49c2-a639-b91aee4d8869",
   "metadata": {},
   "outputs": [],
   "source": [
    "canasta = []\n",
    "for basket in my_basket:\n",
    "    basket_dict = {item: (item in basket) for item in articulos}\n",
    "    canasta.append(basket_dict)"
   ]
  },
  {
   "cell_type": "code",
   "execution_count": 32,
   "id": "0b3aa1ad-6bd5-4ccb-9980-5ca41dd56dc9",
   "metadata": {},
   "outputs": [],
   "source": [
    "df_basket = pd.DataFrame(canasta).astype(int)"
   ]
  },
  {
   "cell_type": "code",
   "execution_count": 34,
   "id": "41d9e386-1a66-4ffa-b1f6-9db798a85342",
   "metadata": {},
   "outputs": [
    {
     "name": "stdout",
     "output_type": "stream",
     "text": [
      "     support            itemsets\n",
      "0   0.363636              (beer)\n",
      "1   0.363636             (bread)\n",
      "2   0.545455            (butter)\n",
      "3   0.454545             (chips)\n",
      "4   0.363636            (coffee)\n",
      "5   0.454545              (milk)\n",
      "6   0.363636            (onions)\n",
      "7   0.545455          (tomatoes)\n",
      "8   0.363636       (beer, chips)\n",
      "9   0.363636     (bread, butter)\n",
      "10  0.363636  (onions, tomatoes)\n"
     ]
    },
    {
     "name": "stderr",
     "output_type": "stream",
     "text": [
      "C:\\Users\\Lenovo\\anaconda3\\Lib\\site-packages\\mlxtend\\frequent_patterns\\fpcommon.py:161: DeprecationWarning: DataFrames with non-bool types result in worse computationalperformance and their support might be discontinued in the future.Please use a DataFrame with bool type\n",
      "  warnings.warn(\n"
     ]
    }
   ],
   "source": [
    "# Apriori\n",
    "frecuencia = apriori(df_basket, min_support=0.3, use_colnames=True)\n",
    "\n",
    "print(frecuencia)"
   ]
  },
  {
   "cell_type": "code",
   "execution_count": 36,
   "id": "977a86e6-ea86-4d28-909d-74e53e6488fc",
   "metadata": {},
   "outputs": [
    {
     "data": {
      "text/html": [
       "<div>\n",
       "<style scoped>\n",
       "    .dataframe tbody tr th:only-of-type {\n",
       "        vertical-align: middle;\n",
       "    }\n",
       "\n",
       "    .dataframe tbody tr th {\n",
       "        vertical-align: top;\n",
       "    }\n",
       "\n",
       "    .dataframe thead th {\n",
       "        text-align: right;\n",
       "    }\n",
       "</style>\n",
       "<table border=\"1\" class=\"dataframe\">\n",
       "  <thead>\n",
       "    <tr style=\"text-align: right;\">\n",
       "      <th></th>\n",
       "      <th>antecedents</th>\n",
       "      <th>consequents</th>\n",
       "      <th>antecedent support</th>\n",
       "      <th>consequent support</th>\n",
       "      <th>support</th>\n",
       "      <th>confidence</th>\n",
       "      <th>lift</th>\n",
       "      <th>representativity</th>\n",
       "      <th>leverage</th>\n",
       "      <th>conviction</th>\n",
       "      <th>zhangs_metric</th>\n",
       "      <th>jaccard</th>\n",
       "      <th>certainty</th>\n",
       "      <th>kulczynski</th>\n",
       "    </tr>\n",
       "  </thead>\n",
       "  <tbody>\n",
       "    <tr>\n",
       "      <th>0</th>\n",
       "      <td>(beer)</td>\n",
       "      <td>(chips)</td>\n",
       "      <td>0.363636</td>\n",
       "      <td>0.454545</td>\n",
       "      <td>0.363636</td>\n",
       "      <td>1.000000</td>\n",
       "      <td>2.200000</td>\n",
       "      <td>1.0</td>\n",
       "      <td>0.198347</td>\n",
       "      <td>inf</td>\n",
       "      <td>0.857143</td>\n",
       "      <td>0.800000</td>\n",
       "      <td>1.000000</td>\n",
       "      <td>0.900000</td>\n",
       "    </tr>\n",
       "    <tr>\n",
       "      <th>1</th>\n",
       "      <td>(bread)</td>\n",
       "      <td>(butter)</td>\n",
       "      <td>0.363636</td>\n",
       "      <td>0.545455</td>\n",
       "      <td>0.363636</td>\n",
       "      <td>1.000000</td>\n",
       "      <td>1.833333</td>\n",
       "      <td>1.0</td>\n",
       "      <td>0.165289</td>\n",
       "      <td>inf</td>\n",
       "      <td>0.714286</td>\n",
       "      <td>0.666667</td>\n",
       "      <td>1.000000</td>\n",
       "      <td>0.833333</td>\n",
       "    </tr>\n",
       "    <tr>\n",
       "      <th>2</th>\n",
       "      <td>(onions)</td>\n",
       "      <td>(tomatoes)</td>\n",
       "      <td>0.363636</td>\n",
       "      <td>0.545455</td>\n",
       "      <td>0.363636</td>\n",
       "      <td>1.000000</td>\n",
       "      <td>1.833333</td>\n",
       "      <td>1.0</td>\n",
       "      <td>0.165289</td>\n",
       "      <td>inf</td>\n",
       "      <td>0.714286</td>\n",
       "      <td>0.666667</td>\n",
       "      <td>1.000000</td>\n",
       "      <td>0.833333</td>\n",
       "    </tr>\n",
       "    <tr>\n",
       "      <th>3</th>\n",
       "      <td>(chips)</td>\n",
       "      <td>(beer)</td>\n",
       "      <td>0.454545</td>\n",
       "      <td>0.363636</td>\n",
       "      <td>0.363636</td>\n",
       "      <td>0.800000</td>\n",
       "      <td>2.200000</td>\n",
       "      <td>1.0</td>\n",
       "      <td>0.198347</td>\n",
       "      <td>3.181818</td>\n",
       "      <td>1.000000</td>\n",
       "      <td>0.800000</td>\n",
       "      <td>0.685714</td>\n",
       "      <td>0.900000</td>\n",
       "    </tr>\n",
       "    <tr>\n",
       "      <th>4</th>\n",
       "      <td>(butter)</td>\n",
       "      <td>(bread)</td>\n",
       "      <td>0.545455</td>\n",
       "      <td>0.363636</td>\n",
       "      <td>0.363636</td>\n",
       "      <td>0.666667</td>\n",
       "      <td>1.833333</td>\n",
       "      <td>1.0</td>\n",
       "      <td>0.165289</td>\n",
       "      <td>1.909091</td>\n",
       "      <td>1.000000</td>\n",
       "      <td>0.666667</td>\n",
       "      <td>0.476190</td>\n",
       "      <td>0.833333</td>\n",
       "    </tr>\n",
       "    <tr>\n",
       "      <th>5</th>\n",
       "      <td>(tomatoes)</td>\n",
       "      <td>(onions)</td>\n",
       "      <td>0.545455</td>\n",
       "      <td>0.363636</td>\n",
       "      <td>0.363636</td>\n",
       "      <td>0.666667</td>\n",
       "      <td>1.833333</td>\n",
       "      <td>1.0</td>\n",
       "      <td>0.165289</td>\n",
       "      <td>1.909091</td>\n",
       "      <td>1.000000</td>\n",
       "      <td>0.666667</td>\n",
       "      <td>0.476190</td>\n",
       "      <td>0.833333</td>\n",
       "    </tr>\n",
       "  </tbody>\n",
       "</table>\n",
       "</div>"
      ],
      "text/plain": [
       "  antecedents consequents  antecedent support  consequent support   support  \\\n",
       "0      (beer)     (chips)            0.363636            0.454545  0.363636   \n",
       "1     (bread)    (butter)            0.363636            0.545455  0.363636   \n",
       "2    (onions)  (tomatoes)            0.363636            0.545455  0.363636   \n",
       "3     (chips)      (beer)            0.454545            0.363636  0.363636   \n",
       "4    (butter)     (bread)            0.545455            0.363636  0.363636   \n",
       "5  (tomatoes)    (onions)            0.545455            0.363636  0.363636   \n",
       "\n",
       "   confidence      lift  representativity  leverage  conviction  \\\n",
       "0    1.000000  2.200000               1.0  0.198347         inf   \n",
       "1    1.000000  1.833333               1.0  0.165289         inf   \n",
       "2    1.000000  1.833333               1.0  0.165289         inf   \n",
       "3    0.800000  2.200000               1.0  0.198347    3.181818   \n",
       "4    0.666667  1.833333               1.0  0.165289    1.909091   \n",
       "5    0.666667  1.833333               1.0  0.165289    1.909091   \n",
       "\n",
       "   zhangs_metric   jaccard  certainty  kulczynski  \n",
       "0       0.857143  0.800000   1.000000    0.900000  \n",
       "1       0.714286  0.666667   1.000000    0.833333  \n",
       "2       0.714286  0.666667   1.000000    0.833333  \n",
       "3       1.000000  0.800000   0.685714    0.900000  \n",
       "4       1.000000  0.666667   0.476190    0.833333  \n",
       "5       1.000000  0.666667   0.476190    0.833333  "
      ]
     },
     "execution_count": 36,
     "metadata": {},
     "output_type": "execute_result"
    }
   ],
   "source": [
    "association_rules(frecuencia, metric = 'confidence',\n",
    "                  min_threshold = 0.5).sort_values('confidence', ascending = False).reset_index(drop = True)"
   ]
  },
  {
   "cell_type": "markdown",
   "id": "01556ca6-9e8c-48fc-bdca-0319c5db7d87",
   "metadata": {},
   "source": [
    "# Conclusion\n",
    "Tomando en cuenta los resultados, podemos colcuir que en esta lista de compras tenemos varias combinaciones en donde es muy probable que cuando tengamos el antecedente volvamos a tener el consecuente, tal como el vaso de Beer > Chips o Bread > Butter. Con esto podemos tomar decisiones en cuanto a promociones conjuntas o el acomodo del producto dentro de la tienda. La confianza en estos casos son muy altos, por lo que podemos tener la certeza de que en un pronostico tendriamos alto porcentaje de acertividad."
   ]
  }
 ],
 "metadata": {
  "kernelspec": {
   "display_name": "Python 3 (ipykernel)",
   "language": "python",
   "name": "python3"
  },
  "language_info": {
   "codemirror_mode": {
    "name": "ipython",
    "version": 3
   },
   "file_extension": ".py",
   "mimetype": "text/x-python",
   "name": "python",
   "nbconvert_exporter": "python",
   "pygments_lexer": "ipython3",
   "version": "3.12.4"
  }
 },
 "nbformat": 4,
 "nbformat_minor": 5
}
