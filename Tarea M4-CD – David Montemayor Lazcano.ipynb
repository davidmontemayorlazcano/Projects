{
 "cells": [
  {
   "cell_type": "code",
   "execution_count": 62,
   "id": "61bcffb3",
   "metadata": {},
   "outputs": [
    {
     "name": "stdout",
     "output_type": "stream",
     "text": [
      "Ingrese el numero: 40\n",
      "Si n=40, No puede ser expresado como 2^K= 40\n"
     ]
    }
   ],
   "source": [
    "n = input(\"Ingrese el numero: \")\n",
    "k = 0\n",
    "while 2**k <= int(n):\n",
    "    k = k + 1\n",
    "    \n",
    "    if 2**k == int(n):\n",
    "        print(\"Si n=\"+str(n)+\", Puede ser expresado como 2^\"+str(k)+\"=\"+str(n))\n",
    "        break\n",
    "else:\n",
    "    print(\"Si n=\"+str(n)+\", No puede ser expresado como 2^K= \"+str(n))"
   ]
  },
  {
   "cell_type": "code",
   "execution_count": 66,
   "id": "2326daa9",
   "metadata": {},
   "outputs": [
    {
     "name": "stdout",
     "output_type": "stream",
     "text": [
      "Ingrese el numero: 7.5\n",
      "Error de captura\n"
     ]
    }
   ],
   "source": [
    "try:\n",
    "    n = int(input(\"Ingrese el numero: \"))\n",
    "    if type(n) == int:\n",
    "        conteo = 1\n",
    "        nfactorial = 1\n",
    "        while conteo <= int(n):\n",
    "                nfactorial = nfactorial*conteo\n",
    "                conteo += 1\n",
    "        else:\n",
    "            print(nfactorial)\n",
    "except:\n",
    "    print(\"Error de captura\")\n",
    "        \n",
    "        "
   ]
  },
  {
   "cell_type": "code",
   "execution_count": null,
   "id": "313974fb",
   "metadata": {},
   "outputs": [],
   "source": []
  },
  {
   "cell_type": "code",
   "execution_count": null,
   "id": "7816e01a",
   "metadata": {},
   "outputs": [],
   "source": []
  }
 ],
 "metadata": {
  "kernelspec": {
   "display_name": "Python 3 (ipykernel)",
   "language": "python",
   "name": "python3"
  },
  "language_info": {
   "codemirror_mode": {
    "name": "ipython",
    "version": 3
   },
   "file_extension": ".py",
   "mimetype": "text/x-python",
   "name": "python",
   "nbconvert_exporter": "python",
   "pygments_lexer": "ipython3",
   "version": "3.9.13"
  }
 },
 "nbformat": 4,
 "nbformat_minor": 5
}
