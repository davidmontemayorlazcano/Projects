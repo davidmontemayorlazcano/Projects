{
 "cells": [
  {
   "cell_type": "code",
   "execution_count": 2,
   "id": "544209d9",
   "metadata": {},
   "outputs": [
    {
     "data": {
      "text/plain": [
       "array([20, 19, 18, 17, 16, 15, 14, 13, 12])"
      ]
     },
     "execution_count": 2,
     "metadata": {},
     "output_type": "execute_result"
    }
   ],
   "source": [
    "import numpy as np\n",
    "arreglo1 = np.array([12,13,14,15,16,17,18,19,20])\n",
    "arreglo2 = np.flip(arreglo1)\n",
    "arreglo2"
   ]
  },
  {
   "cell_type": "code",
   "execution_count": 3,
   "id": "7645480e",
   "metadata": {},
   "outputs": [
    {
     "data": {
      "text/plain": [
       "array([-17.77777778, -11.11111111,   7.33888889,   1.11111111,\n",
       "        37.72777778,   0.        ])"
      ]
     },
     "execution_count": 3,
     "metadata": {},
     "output_type": "execute_result"
    }
   ],
   "source": [
    "fahrenheit = np.array([0,12,45.21,34,99.91,32])\n",
    "celcius = (fahrenheit-32)/1.8\n",
    "celcius"
   ]
  },
  {
   "cell_type": "code",
   "execution_count": 4,
   "id": "c172c3d9",
   "metadata": {},
   "outputs": [
    {
     "data": {
      "text/plain": [
       "array([ 0, 10, 20, 20, 10, 30])"
      ]
     },
     "execution_count": 4,
     "metadata": {},
     "output_type": "execute_result"
    }
   ],
   "source": [
    "arreglo2 = np.array([0,10,20])\n",
    "arreglo3 = np.array([20,10,30])\n",
    "\n",
    "arreglo4 = np.concatenate((arreglo2,arreglo3))\n",
    "arreglo4"
   ]
  },
  {
   "cell_type": "code",
   "execution_count": 11,
   "id": "19c372d7",
   "metadata": {},
   "outputs": [
    {
     "data": {
      "text/plain": [
       "array([ 0, 10, 20, 30])"
      ]
     },
     "execution_count": 11,
     "metadata": {},
     "output_type": "execute_result"
    }
   ],
   "source": [
    "set1 = set(arreglo4)\n",
    "lista1 = list(set1)\n",
    "arreglo5 = np.array(lista1)\n",
    "arreglo5"
   ]
  },
  {
   "cell_type": "code",
   "execution_count": null,
   "id": "59b79375",
   "metadata": {},
   "outputs": [],
   "source": []
  }
 ],
 "metadata": {
  "kernelspec": {
   "display_name": "Python 3 (ipykernel)",
   "language": "python",
   "name": "python3"
  },
  "language_info": {
   "codemirror_mode": {
    "name": "ipython",
    "version": 3
   },
   "file_extension": ".py",
   "mimetype": "text/x-python",
   "name": "python",
   "nbconvert_exporter": "python",
   "pygments_lexer": "ipython3",
   "version": "3.9.13"
  }
 },
 "nbformat": 4,
 "nbformat_minor": 5
}
